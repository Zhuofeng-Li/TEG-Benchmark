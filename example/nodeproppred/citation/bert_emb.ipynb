{
 "cells": [
  {
   "cell_type": "code",
   "execution_count": 8,
   "metadata": {},
   "outputs": [],
   "source": []
  },
  {
   "cell_type": "code",
   "execution_count": 2,
   "metadata": {},
   "outputs": [],
   "source": [
    "import os\n",
    "import pickle\n",
    "import sys\n",
    "\n",
    "sys.path.append(os.path.abspath(os.path.join(os.path.dirname(__file__), '..', '..', '..')))\n",
    "\n",
    "import torch.nn.functional as F\n",
    "import numpy as np\n",
    "import torch\n",
    "import torch_geometric.transforms as T\n",
    "from torch_geometric.loader import NeighborLoader\n",
    "import tqdm\n",
    "from sklearn.metrics import roc_auc_score, f1_score, accuracy_score\n",
    "from torch_geometric.loader import NeighborSampler\n",
    "from torch_geometric.nn import SAGEConv, TransformerConv, GINEConv, EdgeConv, GeneralConv\n",
    "from torch.nn import Linear\n",
    "import argparse\n",
    "\n",
    "class GNN(torch.nn.Module):\n",
    "\tdef __init__(self, hidden_channels, edge_dim, num_layers, model_type):\n",
    "\t\tsuper().__init__()\n",
    "\t\tself.convs = torch.nn.ModuleList()\n",
    "\n",
    "\t\tif model_type == 'GraphSAGE':\n",
    "\t\t\tself.conv = SAGEConv((-1, -1), hidden_channels)\n",
    "\t\telif model_type == 'GraphTransformer':\n",
    "\t\t\tself.conv = TransformerConv((-1, -1), hidden_channels, edge_dim=edge_dim)\n",
    "\t\telif model_type == 'GINE':\n",
    "\t\t\tself.conv = GINEConv(Linear(hidden_channels, hidden_channels), edge_dim=edge_dim)\n",
    "\t\telif model_type == 'EdgeConv':\n",
    "\t\t\tself.conv = EdgeConv(Linear(2 * hidden_channels + edge_dim, hidden_channels))\n",
    "\t\telif model_type == 'GeneralConv':\n",
    "\t\t\tself.conv = GeneralConv((-1, -1), hidden_channels, in_edge_channels=edge_dim)\n",
    "\t\telse:\n",
    "\t\t\traise NotImplementedError('Model type not implemented')\n",
    "\n",
    "\t\tfor _ in range(num_layers):\n",
    "\t\t\tself.convs.append(self.conv)\n",
    "\n",
    "\tdef forward(self, x, edge_index, edge_attr):\n",
    "\t\tfor i, conv in enumerate(self.convs):\n",
    "\t\t\tx = conv(x, edge_index, edge_attr=edge_attr)\n",
    "\t\t\tx = x.relu() if i != len(self.convs) - 1 else x\n",
    "\t\treturn x\n",
    "\n",
    "\n",
    "class Classifier(torch.nn.Module):\n",
    "\tdef __init__(self, hidden_channels, out_channels):\n",
    "\t\tsuper().__init__()\n",
    "\t\tself.lin1 = Linear(hidden_channels, hidden_channels // 4)\n",
    "\t\tself.lin2 = Linear(hidden_channels // 4, out_channels)\n",
    "\n",
    "\tdef forward(self, x):\n",
    "\t\tx = self.lin1(x).relu()\n",
    "\t\tx = self.lin2(x)\n",
    "\t\treturn x\n",
    "\n",
    "\n",
    "class Model(torch.nn.Module):\n",
    "\tdef __init__(self, hidden_channels, out_channels, edge_dim, num_layers, model_type):\n",
    "\t\tsuper().__init__()\n",
    "\t\tself.gnn = GNN(hidden_channels, edge_dim, num_layers, model_type=model_type)\n",
    "\t\tself.classifier = Classifier(hidden_channels, out_channels)\n",
    "\n",
    "\tdef forward(self, data):\n",
    "\t\tx = data.x\n",
    "\t\tx = self.gnn(x, data.edge_index, data.edge_attr)\n",
    "\t\tpred = self.classifier(x)\n",
    "\t\treturn pred\n"
   ]
  },
  {
   "cell_type": "code",
   "execution_count": 3,
   "metadata": {},
   "outputs": [],
   "source": [
    "if __name__ == '__main__':\n",
    "\tparser = argparse.ArgumentParser()\n",
    "\tparser.add_argument('--data_type', '-dt', type=str, default='children',\n",
    "\t\t\t\t\t\thelp='goodreads dataset type for children, crime, history, mystery')\n",
    "\tparser.add_argument('--emb_type', '-et', type=str, default='Angle',\n",
    "\t\t\t\t\t\thelp='embedding type for GNN, options are GPT-3.5-TURBO, Bert, Angle, None')\n",
    "\tparser.add_argument('--model_type', '-mt', type=str, default='GraphTransformer',\n",
    "\t\t\t\t\t\thelp='Model type for GNN, options are GraphTransformer, GINE, Spline')\n",
    "\targs = parser.parse_args()  \n",
    "\n",
    "\t# Dataset = Children(root='.') \n",
    "\t# data = Dataset[0]   # TODO: Citation code in TAG\n",
    "\twith open('citation_dataset/raw/filtered_citation_network.pkl', 'rb') as f:\n",
    "\t\tdata = pickle.load(f)\n",
    "\n",
    "\n",
    "\tnum_nodes = len(data.text_nodes)\n",
    "\tnum_edges = len(data.text_edges)\n",
    "\n",
    "\t# map node labels \n",
    "\tlabel_to_int = {label: i for i, label in enumerate(set(data.text_node_labels))}\n",
    "\tdata.y = torch.tensor([label_to_int[label] for label in data.text_node_labels]).long()\n",
    " \n",
    "\t# data split\n",
    "\ttrain_ratio = 0.8\n",
    "\tval_ratio = 0.1\n",
    "\n",
    "\tnum_train_paper = int(num_nodes * train_ratio)\n",
    "\tnum_val_paper = int(num_nodes * val_ratio)\n",
    "\tnum_test_paper = num_nodes - num_train_paper - num_val_paper\n",
    "\t\t\t\n",
    "\tpaper_indices = torch.randperm(num_nodes)\n",
    "\n",
    "\tdata.train_mask = torch.zeros(num_nodes, dtype=torch.bool)\n",
    "\tdata.val_mask = torch.zeros(num_nodes, dtype=torch.bool)\n",
    "\tdata.test_mask = torch.zeros(num_nodes, dtype=torch.bool)\n",
    "\n",
    "\tdata.train_mask[paper_indices[:num_val_paper]] = 1\n",
    "\tdata.val_mask[paper_indices[num_val_paper:num_val_paper + num_val_paper ]] = 1\n",
    "\tdata.test_mask[paper_indices[-num_test_paper:]] = 1\n",
    "\n",
    "\tdata.num_classes = max(data.y) + 1\n",
    " \n",
    "\tdel data.text_nodes\n",
    "\tdel data.text_node_labels\n",
    "\tdel data.text_edges\n",
    "\n",
    "\t# load emb\n",
    "\tif args.emb_type == 'Angle':  # TODO: reset emb name\n",
    "\t\tdata.edge_attr = torch.load('citation_dataset/emb/angle-edge.pt').squeeze().float()\n",
    "\t\tdata.x = torch.load('citation_dataset/emb/angle-node.pt').squeeze().float()\n",
    "\telif args.emb_type == 'None':\n",
    "\t\tdata.edge_attr = torch.randn(num_edges, 1024).squeeze().float()\n",
    "\t\tdata.x = torch.tensor(num_nodes, 1024).squeeze().float()\n",
    "\t"
   ]
  },
  {
   "cell_type": "code",
   "execution_count": 4,
   "metadata": {},
   "outputs": [],
   "source": [
    "train_loader = NeighborLoader(data, input_nodes=data.train_mask, num_neighbors=[10, 10], batch_size=1024, shuffle=True)\n",
    "val_loader = NeighborLoader(data, input_nodes=data.val_mask, num_neighbors=[10, 10], batch_size=1024, shuffle=False)\n",
    "test_loader = NeighborLoader(data, input_nodes=data.test_mask, num_neighbors=[10, 10], batch_size=1024, shuffle=False)"
   ]
  },
  {
   "cell_type": "code",
   "execution_count": 9,
   "metadata": {},
   "outputs": [],
   "source": []
  },
  {
   "cell_type": "code",
   "execution_count": 25,
   "metadata": {},
   "outputs": [
    {
     "name": "stdout",
     "output_type": "stream",
     "text": [
      "cuda\n"
     ]
    },
    {
     "name": "stderr",
     "output_type": "stream",
     "text": [
      "  2%|▏         | 12/486 [00:00<00:08, 54.93it/s]"
     ]
    },
    {
     "name": "stderr",
     "output_type": "stream",
     "text": [
      "100%|██████████| 486/486 [00:08<00:00, 59.80it/s]\n"
     ]
    },
    {
     "name": "stdout",
     "output_type": "stream",
     "text": [
      "Validation begins\n"
     ]
    },
    {
     "name": "stderr",
     "output_type": "stream",
     "text": [
      "100%|██████████| 486/486 [00:03<00:00, 137.08it/s]\n"
     ]
    },
    {
     "name": "stdout",
     "output_type": "stream",
     "text": [
      "F1 score: 0.7902\n",
      "Validation Accuracy: 0.7917\n"
     ]
    },
    {
     "name": "stderr",
     "output_type": "stream",
     "text": [
      "100%|██████████| 486/486 [00:08<00:00, 59.87it/s]\n"
     ]
    },
    {
     "name": "stdout",
     "output_type": "stream",
     "text": [
      "Validation begins\n"
     ]
    },
    {
     "name": "stderr",
     "output_type": "stream",
     "text": [
      "100%|██████████| 486/486 [00:03<00:00, 136.82it/s]\n"
     ]
    },
    {
     "name": "stdout",
     "output_type": "stream",
     "text": [
      "F1 score: 0.7976\n",
      "Validation Accuracy: 0.7996\n"
     ]
    },
    {
     "name": "stderr",
     "output_type": "stream",
     "text": [
      " 83%|████████▎ | 405/486 [00:06<00:01, 59.93it/s]\n"
     ]
    },
    {
     "ename": "KeyboardInterrupt",
     "evalue": "",
     "output_type": "error",
     "traceback": [
      "\u001b[0;31m---------------------------------------------------------------------------\u001b[0m",
      "\u001b[0;31mKeyboardInterrupt\u001b[0m                         Traceback (most recent call last)",
      "Cell \u001b[0;32mIn[25], line 20\u001b[0m\n\u001b[1;32m     17\u001b[0m batch \u001b[38;5;241m=\u001b[39m batch\u001b[38;5;241m.\u001b[39mto(device)\n\u001b[1;32m     18\u001b[0m batch_size \u001b[38;5;241m=\u001b[39m batch\u001b[38;5;241m.\u001b[39mbatch_size\n\u001b[0;32m---> 20\u001b[0m out \u001b[38;5;241m=\u001b[39m \u001b[43mmodel\u001b[49m\u001b[43m(\u001b[49m\u001b[43mbatch\u001b[49m\u001b[43m)\u001b[49m\n\u001b[1;32m     21\u001b[0m loss \u001b[38;5;241m=\u001b[39m criterion(out, batch\u001b[38;5;241m.\u001b[39my)\n\u001b[1;32m     22\u001b[0m loss\u001b[38;5;241m.\u001b[39mbackward()\n",
      "File \u001b[0;32m~/anaconda3/envs/TAG/lib/python3.8/site-packages/torch/nn/modules/module.py:1532\u001b[0m, in \u001b[0;36mModule._wrapped_call_impl\u001b[0;34m(self, *args, **kwargs)\u001b[0m\n\u001b[1;32m   1530\u001b[0m     \u001b[38;5;28;01mreturn\u001b[39;00m \u001b[38;5;28mself\u001b[39m\u001b[38;5;241m.\u001b[39m_compiled_call_impl(\u001b[38;5;241m*\u001b[39margs, \u001b[38;5;241m*\u001b[39m\u001b[38;5;241m*\u001b[39mkwargs)  \u001b[38;5;66;03m# type: ignore[misc]\u001b[39;00m\n\u001b[1;32m   1531\u001b[0m \u001b[38;5;28;01melse\u001b[39;00m:\n\u001b[0;32m-> 1532\u001b[0m     \u001b[38;5;28;01mreturn\u001b[39;00m \u001b[38;5;28;43mself\u001b[39;49m\u001b[38;5;241;43m.\u001b[39;49m\u001b[43m_call_impl\u001b[49m\u001b[43m(\u001b[49m\u001b[38;5;241;43m*\u001b[39;49m\u001b[43margs\u001b[49m\u001b[43m,\u001b[49m\u001b[43m \u001b[49m\u001b[38;5;241;43m*\u001b[39;49m\u001b[38;5;241;43m*\u001b[39;49m\u001b[43mkwargs\u001b[49m\u001b[43m)\u001b[49m\n",
      "File \u001b[0;32m~/anaconda3/envs/TAG/lib/python3.8/site-packages/torch/nn/modules/module.py:1541\u001b[0m, in \u001b[0;36mModule._call_impl\u001b[0;34m(self, *args, **kwargs)\u001b[0m\n\u001b[1;32m   1536\u001b[0m \u001b[38;5;66;03m# If we don't have any hooks, we want to skip the rest of the logic in\u001b[39;00m\n\u001b[1;32m   1537\u001b[0m \u001b[38;5;66;03m# this function, and just call forward.\u001b[39;00m\n\u001b[1;32m   1538\u001b[0m \u001b[38;5;28;01mif\u001b[39;00m \u001b[38;5;129;01mnot\u001b[39;00m (\u001b[38;5;28mself\u001b[39m\u001b[38;5;241m.\u001b[39m_backward_hooks \u001b[38;5;129;01mor\u001b[39;00m \u001b[38;5;28mself\u001b[39m\u001b[38;5;241m.\u001b[39m_backward_pre_hooks \u001b[38;5;129;01mor\u001b[39;00m \u001b[38;5;28mself\u001b[39m\u001b[38;5;241m.\u001b[39m_forward_hooks \u001b[38;5;129;01mor\u001b[39;00m \u001b[38;5;28mself\u001b[39m\u001b[38;5;241m.\u001b[39m_forward_pre_hooks\n\u001b[1;32m   1539\u001b[0m         \u001b[38;5;129;01mor\u001b[39;00m _global_backward_pre_hooks \u001b[38;5;129;01mor\u001b[39;00m _global_backward_hooks\n\u001b[1;32m   1540\u001b[0m         \u001b[38;5;129;01mor\u001b[39;00m _global_forward_hooks \u001b[38;5;129;01mor\u001b[39;00m _global_forward_pre_hooks):\n\u001b[0;32m-> 1541\u001b[0m     \u001b[38;5;28;01mreturn\u001b[39;00m \u001b[43mforward_call\u001b[49m\u001b[43m(\u001b[49m\u001b[38;5;241;43m*\u001b[39;49m\u001b[43margs\u001b[49m\u001b[43m,\u001b[49m\u001b[43m \u001b[49m\u001b[38;5;241;43m*\u001b[39;49m\u001b[38;5;241;43m*\u001b[39;49m\u001b[43mkwargs\u001b[49m\u001b[43m)\u001b[49m\n\u001b[1;32m   1543\u001b[0m \u001b[38;5;28;01mtry\u001b[39;00m:\n\u001b[1;32m   1544\u001b[0m     result \u001b[38;5;241m=\u001b[39m \u001b[38;5;28;01mNone\u001b[39;00m\n",
      "Cell \u001b[0;32mIn[2], line 66\u001b[0m, in \u001b[0;36mModel.forward\u001b[0;34m(self, data)\u001b[0m\n\u001b[1;32m     64\u001b[0m \u001b[38;5;28;01mdef\u001b[39;00m \u001b[38;5;21mforward\u001b[39m(\u001b[38;5;28mself\u001b[39m, data):\n\u001b[1;32m     65\u001b[0m \tx \u001b[38;5;241m=\u001b[39m data\u001b[38;5;241m.\u001b[39mx\n\u001b[0;32m---> 66\u001b[0m \tx \u001b[38;5;241m=\u001b[39m \u001b[38;5;28;43mself\u001b[39;49m\u001b[38;5;241;43m.\u001b[39;49m\u001b[43mgnn\u001b[49m\u001b[43m(\u001b[49m\u001b[43mx\u001b[49m\u001b[43m,\u001b[49m\u001b[43m \u001b[49m\u001b[43mdata\u001b[49m\u001b[38;5;241;43m.\u001b[39;49m\u001b[43medge_index\u001b[49m\u001b[43m,\u001b[49m\u001b[43m \u001b[49m\u001b[43mdata\u001b[49m\u001b[38;5;241;43m.\u001b[39;49m\u001b[43medge_attr\u001b[49m\u001b[43m)\u001b[49m\n\u001b[1;32m     67\u001b[0m \tpred \u001b[38;5;241m=\u001b[39m \u001b[38;5;28mself\u001b[39m\u001b[38;5;241m.\u001b[39mclassifier(x)\n\u001b[1;32m     68\u001b[0m \t\u001b[38;5;28;01mreturn\u001b[39;00m pred\n",
      "File \u001b[0;32m~/anaconda3/envs/TAG/lib/python3.8/site-packages/torch/nn/modules/module.py:1532\u001b[0m, in \u001b[0;36mModule._wrapped_call_impl\u001b[0;34m(self, *args, **kwargs)\u001b[0m\n\u001b[1;32m   1530\u001b[0m     \u001b[38;5;28;01mreturn\u001b[39;00m \u001b[38;5;28mself\u001b[39m\u001b[38;5;241m.\u001b[39m_compiled_call_impl(\u001b[38;5;241m*\u001b[39margs, \u001b[38;5;241m*\u001b[39m\u001b[38;5;241m*\u001b[39mkwargs)  \u001b[38;5;66;03m# type: ignore[misc]\u001b[39;00m\n\u001b[1;32m   1531\u001b[0m \u001b[38;5;28;01melse\u001b[39;00m:\n\u001b[0;32m-> 1532\u001b[0m     \u001b[38;5;28;01mreturn\u001b[39;00m \u001b[38;5;28;43mself\u001b[39;49m\u001b[38;5;241;43m.\u001b[39;49m\u001b[43m_call_impl\u001b[49m\u001b[43m(\u001b[49m\u001b[38;5;241;43m*\u001b[39;49m\u001b[43margs\u001b[49m\u001b[43m,\u001b[49m\u001b[43m \u001b[49m\u001b[38;5;241;43m*\u001b[39;49m\u001b[38;5;241;43m*\u001b[39;49m\u001b[43mkwargs\u001b[49m\u001b[43m)\u001b[49m\n",
      "File \u001b[0;32m~/anaconda3/envs/TAG/lib/python3.8/site-packages/torch/nn/modules/module.py:1541\u001b[0m, in \u001b[0;36mModule._call_impl\u001b[0;34m(self, *args, **kwargs)\u001b[0m\n\u001b[1;32m   1536\u001b[0m \u001b[38;5;66;03m# If we don't have any hooks, we want to skip the rest of the logic in\u001b[39;00m\n\u001b[1;32m   1537\u001b[0m \u001b[38;5;66;03m# this function, and just call forward.\u001b[39;00m\n\u001b[1;32m   1538\u001b[0m \u001b[38;5;28;01mif\u001b[39;00m \u001b[38;5;129;01mnot\u001b[39;00m (\u001b[38;5;28mself\u001b[39m\u001b[38;5;241m.\u001b[39m_backward_hooks \u001b[38;5;129;01mor\u001b[39;00m \u001b[38;5;28mself\u001b[39m\u001b[38;5;241m.\u001b[39m_backward_pre_hooks \u001b[38;5;129;01mor\u001b[39;00m \u001b[38;5;28mself\u001b[39m\u001b[38;5;241m.\u001b[39m_forward_hooks \u001b[38;5;129;01mor\u001b[39;00m \u001b[38;5;28mself\u001b[39m\u001b[38;5;241m.\u001b[39m_forward_pre_hooks\n\u001b[1;32m   1539\u001b[0m         \u001b[38;5;129;01mor\u001b[39;00m _global_backward_pre_hooks \u001b[38;5;129;01mor\u001b[39;00m _global_backward_hooks\n\u001b[1;32m   1540\u001b[0m         \u001b[38;5;129;01mor\u001b[39;00m _global_forward_hooks \u001b[38;5;129;01mor\u001b[39;00m _global_forward_pre_hooks):\n\u001b[0;32m-> 1541\u001b[0m     \u001b[38;5;28;01mreturn\u001b[39;00m \u001b[43mforward_call\u001b[49m\u001b[43m(\u001b[49m\u001b[38;5;241;43m*\u001b[39;49m\u001b[43margs\u001b[49m\u001b[43m,\u001b[49m\u001b[43m \u001b[49m\u001b[38;5;241;43m*\u001b[39;49m\u001b[38;5;241;43m*\u001b[39;49m\u001b[43mkwargs\u001b[49m\u001b[43m)\u001b[49m\n\u001b[1;32m   1543\u001b[0m \u001b[38;5;28;01mtry\u001b[39;00m:\n\u001b[1;32m   1544\u001b[0m     result \u001b[38;5;241m=\u001b[39m \u001b[38;5;28;01mNone\u001b[39;00m\n",
      "Cell \u001b[0;32mIn[2], line 41\u001b[0m, in \u001b[0;36mGNN.forward\u001b[0;34m(self, x, edge_index, edge_attr)\u001b[0m\n\u001b[1;32m     39\u001b[0m \u001b[38;5;28;01mdef\u001b[39;00m \u001b[38;5;21mforward\u001b[39m(\u001b[38;5;28mself\u001b[39m, x, edge_index, edge_attr):\n\u001b[1;32m     40\u001b[0m \t\u001b[38;5;28;01mfor\u001b[39;00m i, conv \u001b[38;5;129;01min\u001b[39;00m \u001b[38;5;28menumerate\u001b[39m(\u001b[38;5;28mself\u001b[39m\u001b[38;5;241m.\u001b[39mconvs):\n\u001b[0;32m---> 41\u001b[0m \t\tx \u001b[38;5;241m=\u001b[39m \u001b[43mconv\u001b[49m\u001b[43m(\u001b[49m\u001b[43mx\u001b[49m\u001b[43m,\u001b[49m\u001b[43m \u001b[49m\u001b[43medge_index\u001b[49m\u001b[43m,\u001b[49m\u001b[43m \u001b[49m\u001b[43medge_attr\u001b[49m\u001b[38;5;241;43m=\u001b[39;49m\u001b[43medge_attr\u001b[49m\u001b[43m)\u001b[49m\n\u001b[1;32m     42\u001b[0m \t\tx \u001b[38;5;241m=\u001b[39m x\u001b[38;5;241m.\u001b[39mrelu() \u001b[38;5;28;01mif\u001b[39;00m i \u001b[38;5;241m!=\u001b[39m \u001b[38;5;28mlen\u001b[39m(\u001b[38;5;28mself\u001b[39m\u001b[38;5;241m.\u001b[39mconvs) \u001b[38;5;241m-\u001b[39m \u001b[38;5;241m1\u001b[39m \u001b[38;5;28;01melse\u001b[39;00m x\n\u001b[1;32m     43\u001b[0m \t\u001b[38;5;28;01mreturn\u001b[39;00m x\n",
      "File \u001b[0;32m~/anaconda3/envs/TAG/lib/python3.8/site-packages/torch/nn/modules/module.py:1532\u001b[0m, in \u001b[0;36mModule._wrapped_call_impl\u001b[0;34m(self, *args, **kwargs)\u001b[0m\n\u001b[1;32m   1530\u001b[0m     \u001b[38;5;28;01mreturn\u001b[39;00m \u001b[38;5;28mself\u001b[39m\u001b[38;5;241m.\u001b[39m_compiled_call_impl(\u001b[38;5;241m*\u001b[39margs, \u001b[38;5;241m*\u001b[39m\u001b[38;5;241m*\u001b[39mkwargs)  \u001b[38;5;66;03m# type: ignore[misc]\u001b[39;00m\n\u001b[1;32m   1531\u001b[0m \u001b[38;5;28;01melse\u001b[39;00m:\n\u001b[0;32m-> 1532\u001b[0m     \u001b[38;5;28;01mreturn\u001b[39;00m \u001b[38;5;28;43mself\u001b[39;49m\u001b[38;5;241;43m.\u001b[39;49m\u001b[43m_call_impl\u001b[49m\u001b[43m(\u001b[49m\u001b[38;5;241;43m*\u001b[39;49m\u001b[43margs\u001b[49m\u001b[43m,\u001b[49m\u001b[43m \u001b[49m\u001b[38;5;241;43m*\u001b[39;49m\u001b[38;5;241;43m*\u001b[39;49m\u001b[43mkwargs\u001b[49m\u001b[43m)\u001b[49m\n",
      "File \u001b[0;32m~/anaconda3/envs/TAG/lib/python3.8/site-packages/torch/nn/modules/module.py:1541\u001b[0m, in \u001b[0;36mModule._call_impl\u001b[0;34m(self, *args, **kwargs)\u001b[0m\n\u001b[1;32m   1536\u001b[0m \u001b[38;5;66;03m# If we don't have any hooks, we want to skip the rest of the logic in\u001b[39;00m\n\u001b[1;32m   1537\u001b[0m \u001b[38;5;66;03m# this function, and just call forward.\u001b[39;00m\n\u001b[1;32m   1538\u001b[0m \u001b[38;5;28;01mif\u001b[39;00m \u001b[38;5;129;01mnot\u001b[39;00m (\u001b[38;5;28mself\u001b[39m\u001b[38;5;241m.\u001b[39m_backward_hooks \u001b[38;5;129;01mor\u001b[39;00m \u001b[38;5;28mself\u001b[39m\u001b[38;5;241m.\u001b[39m_backward_pre_hooks \u001b[38;5;129;01mor\u001b[39;00m \u001b[38;5;28mself\u001b[39m\u001b[38;5;241m.\u001b[39m_forward_hooks \u001b[38;5;129;01mor\u001b[39;00m \u001b[38;5;28mself\u001b[39m\u001b[38;5;241m.\u001b[39m_forward_pre_hooks\n\u001b[1;32m   1539\u001b[0m         \u001b[38;5;129;01mor\u001b[39;00m _global_backward_pre_hooks \u001b[38;5;129;01mor\u001b[39;00m _global_backward_hooks\n\u001b[1;32m   1540\u001b[0m         \u001b[38;5;129;01mor\u001b[39;00m _global_forward_hooks \u001b[38;5;129;01mor\u001b[39;00m _global_forward_pre_hooks):\n\u001b[0;32m-> 1541\u001b[0m     \u001b[38;5;28;01mreturn\u001b[39;00m \u001b[43mforward_call\u001b[49m\u001b[43m(\u001b[49m\u001b[38;5;241;43m*\u001b[39;49m\u001b[43margs\u001b[49m\u001b[43m,\u001b[49m\u001b[43m \u001b[49m\u001b[38;5;241;43m*\u001b[39;49m\u001b[38;5;241;43m*\u001b[39;49m\u001b[43mkwargs\u001b[49m\u001b[43m)\u001b[49m\n\u001b[1;32m   1543\u001b[0m \u001b[38;5;28;01mtry\u001b[39;00m:\n\u001b[1;32m   1544\u001b[0m     result \u001b[38;5;241m=\u001b[39m \u001b[38;5;28;01mNone\u001b[39;00m\n",
      "File \u001b[0;32m~/anaconda3/envs/TAG/lib/python3.8/site-packages/torch_geometric/nn/conv/transformer_conv.py:247\u001b[0m, in \u001b[0;36mTransformerConv.forward\u001b[0;34m(self, x, edge_index, edge_attr, return_attention_weights)\u001b[0m\n\u001b[1;32m    245\u001b[0m         out \u001b[38;5;241m=\u001b[39m beta \u001b[38;5;241m*\u001b[39m x_r \u001b[38;5;241m+\u001b[39m (\u001b[38;5;241m1\u001b[39m \u001b[38;5;241m-\u001b[39m beta) \u001b[38;5;241m*\u001b[39m out\n\u001b[1;32m    246\u001b[0m     \u001b[38;5;28;01melse\u001b[39;00m:\n\u001b[0;32m--> 247\u001b[0m         out \u001b[38;5;241m=\u001b[39m \u001b[43mout\u001b[49m\u001b[43m \u001b[49m\u001b[38;5;241;43m+\u001b[39;49m\u001b[43m \u001b[49m\u001b[43mx_r\u001b[49m\n\u001b[1;32m    249\u001b[0m \u001b[38;5;28;01mif\u001b[39;00m \u001b[38;5;28misinstance\u001b[39m(return_attention_weights, \u001b[38;5;28mbool\u001b[39m):\n\u001b[1;32m    250\u001b[0m     \u001b[38;5;28;01massert\u001b[39;00m alpha \u001b[38;5;129;01mis\u001b[39;00m \u001b[38;5;129;01mnot\u001b[39;00m \u001b[38;5;28;01mNone\u001b[39;00m\n",
      "\u001b[0;31mKeyboardInterrupt\u001b[0m: "
     ]
    }
   ],
   "source": [
    "device = torch.device('cuda' if torch.cuda.is_available() else 'cpu')\n",
    "print(device)\n",
    "\n",
    "model = Model(hidden_channels=1024, out_channels=data.num_classes, edge_dim=1024, num_layers=2, model_type=args.model_type)\n",
    "model = model.to(device)\n",
    "\n",
    "optimizer = torch.optim.Adam(model.parameters(), lr=0.001)\n",
    "\n",
    "criterion = torch.nn.CrossEntropyLoss()\n",
    "\n",
    "for epoch in range(1, 10):\n",
    "\tmodel.train()\n",
    "\ttotal_examples = total_loss = 0\n",
    "\n",
    "\tfor batch in tqdm.tqdm(train_loader):\n",
    "\t\toptimizer.zero_grad()\n",
    "\t\tbatch = batch.to(device)\n",
    "\t\tbatch_size = batch.batch_size\n",
    "\t\t\n",
    "\t\tout = model(batch)\n",
    "\t\tloss = criterion(out, batch.y)\n",
    "\t\tloss.backward()\n",
    "\t\toptimizer.step()\n",
    "\n",
    "\t\ttotal_examples += batch_size\n",
    "\t\ttotal_loss += float(loss) * batch_size\n",
    "\n",
    "\tif epoch % 1 == 0 and epoch != 0:\n",
    "\t\tprint('Validation begins')\n",
    "\n",
    "\t\tmodel.eval()\n",
    "\t\twith torch.no_grad():\n",
    "\t\t\tpreds = []\n",
    "\t\t\tground_truths = []\n",
    "\t\t\tfor batch in tqdm.tqdm(val_loader):\n",
    "\t\t\t\tbatch = batch.to(device)\n",
    "\t\t\t\t\n",
    "\t\t\t\tout = model(batch)\n",
    "\t\t\t\tpred = F.softmax(out, dim=1) \n",
    "\t\t\t\t\n",
    "\t\t\t\tpreds.append(pred)\n",
    "\t\t\t\tground_truths.append(batch.y)\n",
    "\t\t\t\n",
    "\t\t\tpred = torch.cat(preds, dim=0).cpu().numpy()\n",
    "\t\t\tground_truth = torch.cat(ground_truths, dim=0).cpu().numpy()\n",
    "\t\t\t\n",
    "\t\t\t# F1 Score\n",
    "\t\t\ty_pred_labels = np.argmax(pred, axis=1)  # 获得预测类别\n",
    "\t\t\tf1 = f1_score(ground_truth, y_pred_labels, average='weighted')\n",
    "\t\t\tprint(f\"F1 score: {f1:.4f}\")\n",
    "\t\t\t\n",
    "\t\t\t# ACC\n",
    "\t\t\taccuracy = accuracy_score(ground_truth, y_pred_labels)\n",
    "\t\t\tprint(f\"Validation Accuracy: {accuracy:.4f}\")\n"
   ]
  },
  {
   "cell_type": "code",
   "execution_count": null,
   "metadata": {},
   "outputs": [],
   "source": []
  }
 ],
 "metadata": {
  "kernelspec": {
   "display_name": "TAG",
   "language": "python",
   "name": "python3"
  },
  "language_info": {
   "codemirror_mode": {
    "name": "ipython",
    "version": 3
   },
   "file_extension": ".py",
   "mimetype": "text/x-python",
   "name": "python",
   "nbconvert_exporter": "python",
   "pygments_lexer": "ipython3",
   "version": "3.8.19"
  },
  "orig_nbformat": 4
 },
 "nbformat": 4,
 "nbformat_minor": 2
}
