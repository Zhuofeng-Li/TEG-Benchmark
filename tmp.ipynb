{
 "cells": [
  {
   "cell_type": "code",
   "execution_count": 2,
   "metadata": {},
   "outputs": [],
   "source": [
    "import torch as th\n",
    "import numpy as np"
   ]
  },
  {
   "cell_type": "code",
   "execution_count": 57,
   "metadata": {},
   "outputs": [
    {
     "name": "stdout",
     "output_type": "stream",
     "text": [
      "Data(edge_index=[2, 74666], text_nodes=[60785], text_edges=[74666])\n"
     ]
    }
   ],
   "source": [
    "import pickle\n",
    "\n",
    "# 定义新文件路径\n",
    "goodreads_children_path = 'Dataset/twitter/processed/twitter.pkl'\n",
    "\n",
    "# 加载 goodreads_children.pkl 文件\n",
    "with open(goodreads_children_path, 'rb') as f:\n",
    "    goodreads_children_data = pickle.load(f)\n",
    "\n",
    "# 打印加载的数据\n",
    "print(goodreads_children_data)"
   ]
  },
  {
   "cell_type": "code",
   "execution_count": 64,
   "metadata": {},
   "outputs": [],
   "source": [
    "dgl_graph = goodreads_children_data\n",
    "test_ratio=0.1\n",
    "val_ratio=0.2\n",
    "random_seed=42\n",
    "neg_len=\"1000\"\n",
    "path=None\n",
    "way=\"random\""
   ]
  },
  {
   "cell_type": "code",
   "execution_count": 65,
   "metadata": {},
   "outputs": [
    {
     "name": "stderr",
     "output_type": "stream",
     "text": [
      "/home/lizhuofeng/.local/lib/python3.10/site-packages/torch_geometric/data/storage.py:452: UserWarning: Unable to accurately infer 'num_nodes' from the attribute set '{'edge_index', 'text_edges', 'text_nodes'}'. Please explicitly set 'num_nodes' as an attribute of 'data' to suppress this warning\n",
      "  warnings.warn(\n"
     ]
    }
   ],
   "source": [
    "graph = dgl_graph\n",
    "\n",
    "eids = np.arange(graph.num_edges)\n",
    "eids = np.random.permutation(eids)\n",
    "\n",
    "u, v = graph.edge_index\n",
    "\n",
    "test_size = int(len(eids) * test_ratio)\n",
    "val_size = int(len(eids) * val_ratio)\n",
    "\n",
    "test_pos_u, test_pos_v = u[eids[:test_size]], v[eids[:test_size]]\n",
    "val_pos_u, val_pos_v = (\n",
    "\tu[eids[test_size : test_size + val_size]],\n",
    "\tv[eids[test_size : test_size + val_size]],\n",
    ")\n",
    "train_pos_u, train_pos_v = (\n",
    "\tu[eids[test_size + val_size :]],\n",
    "\tv[eids[test_size + val_size :]],\n",
    ")\n",
    "\n",
    "valid_target_neg = th.randint(\n",
    "\t0, graph.num_nodes, [len(val_pos_u), int(neg_len)], dtype=th.long\n",
    ")  # TODO: filter some edges in graph\n",
    "test_target_neg = th.randint(\n",
    "\t0, graph.num_nodes, [len(test_pos_u), int(neg_len)], dtype=th.long\n",
    ")  # TODO: filter some edges in graph\n",
    "\n"
   ]
  },
  {
   "cell_type": "code",
   "execution_count": 76,
   "metadata": {},
   "outputs": [],
   "source": [
    "from torch_sparse import SparseTensor\n",
    "\n",
    "\n",
    "adj_t = SparseTensor.from_edge_index(goodreads_children_data.edge_index, sparse_sizes=(goodreads_children_data.num_nodes, goodreads_children_data.num_nodes)).t()\n"
   ]
  },
  {
   "cell_type": "code",
   "execution_count": 73,
   "metadata": {},
   "outputs": [
    {
     "name": "stderr",
     "output_type": "stream",
     "text": [
      "/home/lizhuofeng/.local/lib/python3.10/site-packages/torch_geometric/data/storage.py:452: UserWarning: Unable to accurately infer 'num_nodes' from the attribute set '{'edge_index', 'text_edges', 'text_nodes'}'. Please explicitly set 'num_nodes' as an attribute of 'data' to suppress this warning\n",
      "  warnings.warn(\n"
     ]
    },
    {
     "data": {
      "text/plain": [
       "60785"
      ]
     },
     "execution_count": 73,
     "metadata": {},
     "output_type": "execute_result"
    }
   ],
   "source": [
    "goodreads_children_data.num_nodes"
   ]
  },
  {
   "cell_type": "code",
   "execution_count": 77,
   "metadata": {},
   "outputs": [
    {
     "data": {
      "text/plain": [
       "(60785, 60785)"
      ]
     },
     "execution_count": 77,
     "metadata": {},
     "output_type": "execute_result"
    }
   ],
   "source": [
    "adj_t.size(0), adj_t.size(1)"
   ]
  },
  {
   "cell_type": "code",
   "execution_count": 1,
   "metadata": {},
   "outputs": [
    {
     "name": "stdout",
     "output_type": "stream",
     "text": [
      "Data(x=[1000, 16], edge_index=[2, 5000], edge_attr=[5000, 8], num_nodes=1000)\n"
     ]
    }
   ],
   "source": [
    "import torch\n",
    "from torch_geometric.data import Data\n",
    "import numpy as np\n",
    "\n",
    "# 设置随机种子以确保可重复性\n",
    "torch.manual_seed(42)\n",
    "np.random.seed(42)\n",
    "\n",
    "# 定义图的参数\n",
    "num_nodes = 1000\n",
    "num_edges = 5000\n",
    "num_node_features = 16\n",
    "num_edge_features = 8\n",
    "\n",
    "# 随机生成边索引\n",
    "edge_index = torch.randint(0, num_nodes, (2, num_edges))\n",
    "\n",
    "# 随机生成节点特征\n",
    "x = torch.randn(num_nodes, num_node_features)\n",
    "\n",
    "# 随机生成边特征\n",
    "edge_attr = torch.randn(num_edges, num_edge_features)\n",
    "\n",
    "# 创建 PyG Data 对象\n",
    "random_graph = Data(\n",
    "    x=x,\n",
    "    edge_index=edge_index,\n",
    "    edge_attr=edge_attr,\n",
    "    num_nodes=num_nodes\n",
    ")\n",
    "\n",
    "# 打印图的信息\n",
    "print(random_graph)\n",
    "\n",
    "# ... existing code ..."
   ]
  },
  {
   "cell_type": "code",
   "execution_count": null,
   "metadata": {},
   "outputs": [],
   "source": [
    "Data.train_mask = "
   ]
  }
 ],
 "metadata": {
  "kernelspec": {
   "display_name": "Python 3",
   "language": "python",
   "name": "python3"
  },
  "language_info": {
   "codemirror_mode": {
    "name": "ipython",
    "version": 3
   },
   "file_extension": ".py",
   "mimetype": "text/x-python",
   "name": "python",
   "nbconvert_exporter": "python",
   "pygments_lexer": "ipython3",
   "version": "3.10.12"
  }
 },
 "nbformat": 4,
 "nbformat_minor": 2
}
