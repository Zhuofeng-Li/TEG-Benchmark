{
 "cells": [
  {
   "cell_type": "code",
   "execution_count": 3,
   "metadata": {},
   "outputs": [
    {
     "name": "stderr",
     "output_type": "stream",
     "text": [
      "/home/lizhuofeng/.local/lib/python3.10/site-packages/torch/storage.py:414: FutureWarning: You are using `torch.load` with `weights_only=False` (the current default value), which uses the default pickle module implicitly. It is possible to construct malicious pickle data which will execute arbitrary code during unpickling (See https://github.com/pytorch/pytorch/blob/main/SECURITY.md#untrusted-models for more details). In a future release, the default value for `weights_only` will be flipped to `True`. This limits the functions that could be executed during unpickling. Arbitrary objects will no longer be allowed to be loaded via this mode unless they are explicitly allowlisted by the user via `torch.serialization.add_safe_globals`. We recommend you start setting `weights_only=True` for any use case where you don't have full control of the loaded file. Please open an issue on GitHub for any issues related to this experimental feature.\n",
      "  return torch.load(io.BytesIO(b))\n"
     ]
    }
   ],
   "source": [
    "import pickle\n",
    "\n",
    "with open(\"Dataset/amazon_baby/processed/baby.pkl\", 'rb') as file:\n",
    "    loaded_data = pickle.load(file)\n"
   ]
  },
  {
   "cell_type": "code",
   "execution_count": 4,
   "metadata": {},
   "outputs": [],
   "source": [
    "longest_review = max(loaded_data.text_edges, key=len)"
   ]
  },
  {
   "cell_type": "code",
   "execution_count": 6,
   "metadata": {},
   "outputs": [
    {
     "data": {
      "text/plain": [
       "'This review, titled Oh, how I have struggled!, gives the product a rating of 3.0. The reviewer stated, This is a very long review, and I apologize for the length, but hope the amount of detail included will help someone.  I\\'ve tried my best to organize it in a way that you can find the parts that suit you.<br /><br />MY EXPERIENCE AS A CLOTH DIAPER USER:<br />I\\'ve been using Charlie Banana One Size since the day we came home from the hospital and now that my daughter is 4 months, I\\'m ready to share my experience with other shoppers needing guidance.  This is my third daughter, but my first time to cloth diaper.  My first two girls were in disposables but after educating myself on the chemicals in disposables, I knew I wanted to switch to cloth.  After agonizing for hours, nay, DAYS over many reviews, blogs, cloth diapering sites, etc... I decided Charlie Banana would be the brand for us and I would not use any other diapering system.  Before my daughter was born, I used up the last of the Tide Laundry Detergent, began washing the entire household in the recommended eco-friendly detergent and switched my Bounce dryer sheets to Woolzies Dryer Balls.  I even stipped my washer and dryer.  I researched my water - I live in Alabama - we have the softest water in the nation - whew, no hard water issues for me!  We were ready for baby.<br /><br />THE CHARLIE BANANA DIAPER:<br />Each pocket diaper comes with adjustable elastic in the legs.  The sizes are XS, S, S, M, M, and L.  The microfleece of the pocket is extremely soft as is the microfiber cotton insert.  The diapers are well made and of excellent quality.<br /><br />MY DIAPER STASH:<br />I work full-time and only wanted to wash every 2-3 days so I gradually bought or received as gifts (6) boxes of six one-sized diapers in white (wanted gender neutral as we want more children some day) and for fun, 3 individual colored diapers - a pink one, a lavendar one, and one with the butterfly pattern.  This gave me 39 diapers - which I collected the first month of my daughter\\'s life.<br /><br />INITIAL IMPRESSION:<br />At first, I LOVED my CB diapers.  As other reviewers have stated, they were very soft, quick to absorb, and they even worked overnight.  I was thrilled.  I adjusted them to XS for my newborn, 7 lb, 12 oz daughter and we were off to a great start.  They fit perfectly.  They didn\\'t leak.  All of the gushing 5-star reviews here mimic my first impressions of this diaper.<br /><br />FIRST PROBLEM:<br />When my daughter was first born, I had two boxes of white diapers.  I had done enough research to know that I wanted the \"new and improved\" sliding buckle/bra strap designed diapers.  These would be easier to adjust than the older, button-style CB diapers.  My first two boxes were this style - I purchased them on Amazon.  I did notice that whenever I washed them, the sliding buckle where you adjust the size of the elastic would get sucked down into the leg casing with every wash cycle.  This meant I would have to pull the buckle back out of the leg casing every time I washed my diapers.  Which took a considerable amount of my very precious and very limited time.  To leave the buckle inside the leg casing would make the diaper too big for my tiny newborn - and the first time I tried to skip pulling the elastic out, I had major leg leaks.  Lesson learned.  Every time the diaper is washed, it must be re-sized by hand.  EVERY. TIME.  But other than this, they worked great, so I ordered more.<br /><br />Imagine my delight when the next two boxes I ordered from Amazon had an improvement to the sliding buckle design - an extra strap sewn to the buckle to prevent it from being sucked down into the diaper.  Hooray!  I would no longer have to waste my life pulling buckles out of leg casing in half my diapers! Once I discovered this, I was sold on Charlie Banana and ordered two more boxes (boxes #5 and #6) of 6 pack white to be on their way to complete my stash.<br /><br />Receiving boxes number three and four after my daughter was 2 weeks old really let me compare brand-new-out-of-the-box to washed-daily-for-two-weeks-in-a-row.  I noticed right away that the fibers on my \"old\" diapers had already \"matted down\" and were not nearly as soft.  A drop of water showed me that the new ones absorbed more quickly than my two-week-old, used daily diapers.  Hmmmm.... must be normal wear and tear.  I\\'m very careful to do a 30 minute cold soak, then cold rinse, a warm wash with a 1/2 scoop of the recommended detergent and then tumble dry low with my wool dryer balls.  I\\'ve read horror stories of what happens to other people who don\\'t care for their diapers properly so I\\'m too scared to void my warranty with a hot wash or enzyme cleaner, like Bac-Out, to see if it will improve my new-found absorbency issue.  We will just keep going as we\\'ve been going.<br /><br />MY SECOND PROBLEM:<br />Remember my problem with the disappearing buckles?  Well, my \"new and improved\" CB diapers with sewn-in-strap to prevent this problem had the same problem.  They came out of the wash with the buckle BACK inside the leg casing - this time the elastic AND the extra strap were sucked down into the leg casing.  So much for the \"improvement\" solving this problem.  I decided to e-mail customer service about this issue to see if they had any wisdom that would prevent this issue.<br /><br />CUSTOMER SERVICE, TAKE ONE:<br />Customer Service is in Hong Kong.  Searching the CB website it was easy enough to find a phone number to call China, but not knowing what kind of charges would be on my cell phone bill, I opted for e-mail.  I sent an e-mail at 10 o\\'clock at night detailing my problem of the disappearing buckles and had a reply when I woke up the next morning.  The English was good, though not perfect.  I basically got an apology that they were sorry I wasn\\'t happy and sent me some sizing recommendations.... verbatim from the side of the box.  Not extremely helpful.<br /><br />MY THIRD PROBLEM:<br />Boxes five and six arrived and they are the old, OLD style of Charlie Banana diapers - the button style.  What the heck???  My most recent order is now their oldest style?  I don\\'t open them for a couple of weeks and debate whether or not to send them back in hopes I can get the sliding buckle diapers... which I\\'m getting less fond of by the wash.  I e-mail Customer Service again - how do I get sliding buckle diapers - I don\\'t want the old ones.<br /><br />CUSTOMER SERVICE, TAKE TWO:<br />Rodrigo replies again that he is sorry I\\'m not happy with my diapers and sends me the instructions from the side of the box... again.  Thanks for nothing.<br /><br />MY FOURTH PROBLEM:<br />Finally, I have the proverbial straw that breaks the camel\\'s back.  My diapers start leaking.  Alot.  My daughter is only two months old and it seems every other diaper is leaking.  I keep adjusting, and readjusting.  I\\'m starting to believe all of the one-star reviews I ignored... and then, I notice the problem.  The buckles are sliding into the leg casing WHILE THE DIAPER IS ON MY DAUGHTER.  Not in the wash.  I\\'m careful to pull the buckles out after the wash.  THEY ARE CHANGING SIZE WHILE ON MY BABY.  Let me clarify.  This is a two month old, 10 lb baby.  She is not crawling, she is not walking, she doesn\\'t even roll over yet.  She lays on her back at all times, often at an incline in a bouncy seat or a swing - the optimal position for catching (and containing) diaper messes.  In other words, very little movement - and my diapers are failing left and right.  I\\'m about to go back to chemical-laden disposables until I remember I have two unopened boxes of button-style diapers - old, old Charlie Bananas - new in the box.<br /><br />THE FIRST SAVE:<br />I open the button-style diapers.  They are more tedious and time-consuming to size the first time.  We use them.  They don\\'t leak. I wash them.  THEY COME OUT OF THE WASH THE SAME SIZE AS THEY WENT IN!  I finally have my answer.  The button-style diapers are awesome, the sliding buckle diapers are a disaster.  So what it takes a little longer to adjust the size?  At least I don\\'t have to do it EVERYTIME they are washed.  I\\'m over the moon with joy!  Now my sliding buckle diapers are crummy more than ever.<br /><br />THE CHARLIE BANANA FACEBOOK PAGE:<br />I go to the CB FB page after another month (my daughter is now 3 months old) to look for others having my issue with the sliding buckles.  I don\\'t see any posts of that nature, so I post my own remark on their wall.  Viola!  I get many \"comments\" from other CB users with the same issue begging for help.  Charlie Banana Facebook responds to one of the Facebook users who sounded more desperate than me and they reach out to try and help her.  Feeling a bit miffed that no help has been offered to me, I send a private Facebook message detailing my CB woes from the beginning.  I get a quick response from Claudia, asking me to forward my message and e-mails to Charlie Banana Customer service as Facebook isn\\'t really the place to get me help.  Per Claudia, they have no record that I have ever e-mailed Charlie Banana before.  Oh, really???  Well, thanks to the beauty of G-mail, my e-mails and responses to Rodrigo were still intact in my inbox.  So I copied and pasted my Facebook message to Claudia, her response, my two e-mails with responses from Rodrigo back to Customer Service along with order numbers from Target and Amazon, my mailing address and phone number.  I also throw in that I\\'m waiting to see how this will be handled before leaving my review on Amazon.<br /><br />CHARLIE BANANA CALLS ME FROM CHINA:<br />I get a phone call from Gaelle - who speaks clear English with a Chinese accent. She leaves me a voicemail explaining they had problems with their server and lost some e-mails and had to fire a few customer service representatives that were not meeting their standards.  Fair enough.  She also apologized for my diaper problems.  Now we are getting somewhere.<br /><br />I get a second voice mail from Gaelle a few days later that she will replace my \"bad\" diapers - all 26 of them (4 boxes of 6-pack white and my pink and purple individual diapers - the butterfly diaper was the old button-style) and I am harder to reach \"than the President\", but this time she leaves me a 10-digit, non-international sounding phone number that I can call her back on while she is vacationing in Canada.<br /><br />I call Gaelle back and we discuss my issue of the disappearing buckles and diapers that change size all by themselves while being worn.  At one point, she tells me she is very surprised I\\'m having this issue.  I tell her how surprised I am that this issue is occurring from FOUR different boxes manufactured at possibly different times and that other Facebook users are apparently having this same problem.  When asked what they can do, I ask to have my sliding buckle diapers replaced with the old, button-style diapers.  She tells me they can and to not send all back, but a few samples from each box.  I can donate the rest.  I receive a return shipping label at no charge to me.  I am only out my time to dig up my receipts and package up the old diapers and take them to the UPS store.<br /><br />CHARLIE BANANA SENDS ME NEW DIAPERS:<br />Within 48 hours I receive an e-mail that my new diapers are on their way.  They arrive in a few days.  To their credit, they replaced all of my bad diapers with the style I asked for.  I received 4 boxes, of gender neutral, multi-colored diapers.  Not white.  Sigh.  Beggars can\\'t be choosers, and Gaelle did tell me she wasn\\'t sure if she had white left or not.  The two individual diapers have been replaced with the blue, outer-space pattern - definitely not girly.  Very boy-ish.  I\\'m trying to focus on the positives here that my crummy diapers have been replaced with ones I know will work - perhaps I\\'m being too picky by being disappointed I don\\'t have the colors I wanted?  A minor annoyance after everything else I\\'ve been through.<br /><br />***UPDATE 12/27/12****  THE SAGA CONTINUES:<br />When I wrote this review yesterday, my new diapers were sitting in boxes, but since I had them as promised, I went ahead and wrote my review.  I discovered last night when opening them they are NOT button-style, but the sliding buckle style that I loathe.  Also, the return shipping label they promised to send is missing.  I have e-mailed them they sent the wrong replacements and I am waiting for TWO shipping labels now - one for the wrong replacement diapers that I\\'m sending back, and my original, defective diapers.  I\\'m hopeful this will still be resolved in a way that I\\'m satisfied.  I\\'m not going to change my rating just yet.  Will be back to update as my ordeal continues...<br />*****END OF UPDATE - BACK TO ORIGINAL REVIEW*******<br /><br />WHERE I AM TODAY:<br />My daughter is now 4 months old and 13 lbs and in the 50th percentile for weight, height, and length.  I have kept a few of my \"bad\" diapers to experiment with.  What happens if you wash them in hot water?  Do enzyme cleaners like Bac-Out really hurt them?  Does washing with Dawn Dish Soap really improve the absorbency?  Questions I still would like to answer, but have been too afraid to do with diapers in my rotation.  I keep thinking I might one day be able to salvage these bad diapers.  Perhaps when my daughter is chunky enough, she can fill the gaps in the legs with the buckle inside the leg casing, but for at least the first 4 months of her life, the sliding buckle diapers have been a nightmare.  Even sized on \"XS\" to compensate for the buckle being inside the leg (which makes the diaper bigger), they still leaked if the buckle was inside the leg casing.<br /><br />Overall, I am very happy with my button-style Charlie Banana diapers.  They don\\'t leak for me during the day (change baby every 2-3 hours), but they do NOT work for overnight.  My daughter is, perhaps, too heavy of a wetter (she sleeps through the night - about 10 hours).  For the past four months I have changed her pajamas and bed sheets every morning as she is soaked through.  I use a CB diaper with two inserts and it\\'s flooded.  I\\'ve finally broken down and ordered some Thirsties with pre-folds to try as my night time diaper - will be back to post an update when I find what works for overnight. I\\'m too stubborn to try a disposable at night.  Hemp inserts in my pocket diapers have not helped either.<br /><br />OTHER THINGS WORTH MENTIONING (GOOD AND BAD):<br />One of the \"extra straps\" attached to my sliding buckle in one diaper came un-sewn.  Didn\\'t really affect the diaper at all, as this strap did nothing for the function, but it is worth mentioning.<br /><br />Also, one of my diapers came with TWO size small inserts and instead of ONE each of size Small and  size Med/Large.  Just another  oops worth mentioning.<br /><br />I also have the Charlie Banana reusable breast pads and Charlie Banana double sided wipes - I would rate both of these items 5 stars for function, durability, and quality - LOVE THEM!<br /><br />The colored diapers hold up very well in the wash - I\\'ve had no issues with the colors fading or the patterns peeling off.  They don\\'t show through baby clothes like I thought they would, which is a good thing.<br /><br />IN SUMMARY:<br />Kudos to Gaelle and her team at Winc Design for hearing my complaint and correcting it at no charge to me.  If nothing else, customer service gets FOUR STARS as a final rating.  Only minus one star that I had to contact them three different times first to get the ball rolling and because the different color diapers are not originally what I had/asked for, but I understand the button-style diapers are no longer being manufactured and are in short supply.  It is my hope that others will read this review and chime in at the comments section about the different styles - I\\'m suspicious I can\\'t be the only person with this issue.  I hope Charlie Banana will listen to their consumers and go back to the button-style adjustment in the leg elastic.  Everything else about the diaper is high quality and works well.<br /><br />CONCLUSION:<br />5 stars if you can find the button style diapers<br />1 star if you get the sliding buckle style diapers - I really would try something else until they change their design.<br />3 star final rating.<br /><br />My apologies for the length!<br /><br />*****SECOND UPDATE  1/9/12******<br />Ever since I discovered I had been sent the wrong style diapers, I have been e-mailing customer service back and forth.  Communication is good, but understandably slow, due to the location being on the other side of the globe.  However, I now have my two shipping labels in hand (to return my wrong new diapers and my original diapers that haven\\'t worked properly), no cost to me and as soon as I can get to the UPS store, they are on the way back.  Once Charlie Banana receives them, they have promised to replace my diapers with the button-style I requested, though they have told me they are out of both solid white and \"girl colors\" in that style diaper as they have not been in production since 2010.  I had the choice of Construction Print, Space Orbit Print, or Hello Cloth Goodbye Disposable Print.  I chose the Hello Cloth as it seemed the most gender neutral.  Will update again if/when I receive my replacement diapers.  So far, I\\'m pleased with customer service, even if it does take a bit of time to communicate back and forth due to being 13 time zones apart from one another.<br /><br />Also, I\\'m finding that the sliding buckle diapers set on \"XS\" with the buckle INSIDE the leg casing (where it\\'s NOT really supposed to be) are causing fewer leaks on my now 13+ pound baby (I had tried this earlier, but she was still too small), though they still fit awkwardly and are not as leak proof as my button style diapers, which I currently have buttoned between the two \"M\"s on the elastic.  Anyway, the sliding buckle diapers still do not work as designed, so I still have to give them 1 star.  They are definitely a nightmare for newborns through 13 pounds (at least for me).<br /><br />I FOUND A NIGHTTIME SOLUTION:<br />I ordered a \"Thirsties Duo Snap Wrap\" in Size 2 (claims to fit from 18-40 lbs) from Amazon and I place this OVER my Charlie Banana diaper that is stuffed with the two Charlie Banana Microfiber Inserts (one of the Med/Large Inserts and one of the Small Inserts).  This has worked like a charm.  No more wet sheets and pajamas!  The diaper and inserts are flooded, but baby\\'s clothes - and my sheets- are totally dry.  I had ordered a Size 1 cover, and it also worked, but at 13+ lbs I had it on the last available snap, so ordered several in size 2, which also work and we\\'ve got plenty of room to grow!  I did try the Thirsties Duo Hemp Inserts, meant for this particular cover, which also work, but for some reason, I really just like putting the Thirsties Cover over my Charlie Bananas - I like having the microfleece pocket against baby\\'s skin as it keeps baby feeling dry.  PLUS, the Thirsties Duo Snap Wrap cover does not add anymore bulk.  Win-win!<br />*******END OF SECOND UPDATE*******<br /><br />******1/24/13******ANOTHER UPDATE<br />I finally shipped my diapers back to Hong Kong and my first round of wrong-style replacement diapers back to California (the U.S. distribution/shipping center for CB).  Charlie Banana sent me all of the proper forms to get my diapers through customs.  The UPS guy told me that shipping my diapers to China would have cost around $200 (my jaw hit the floor).  A few days later (1/18, actually) I received my \"Hello Cloth\" diapers in the button style.<br /><br />At this point, Charlie Banana has done everything in their power to make me a happy customer - BIG bonus points for that.  I had a defective product and they replaced it.<br /><br />However, they are still manufacturing defective products - their other products are great and warrant five stars - the nursing pads, the sanitary pads, the cloth wipes.  But I won\\'t be purchasing more diapers, until they fix their current design flaw.  Just to reiterate - the latest style, with the PUL strap to prevent this problem, does NOT solve the problem.  The button-style (original design) are awesome.  There are rumors on the internet that the person who started Charlie Banana used to work for FuzziBunz and the button-style adjustment is a patented design and Charlie Banana had to change their design away from that to avoid infringement on the patent of FuzziBunz.  Whether true or not, CB needs to come up with something, ANYTHING to fix the issue with their current diapers.  Perhaps a button attached to the buckle to \"lock\" the buckle in place?  I don\\'t know. I just hope Winc Design will read this post and take it to heart.  And if you are a Charlie Banana user with this issue - SPEAK UP or the company will not realize how widespread this problem really is - right now they pretend you are the first person on earth to have ever experienced such a mishap with their diapers - however, posts on Facebook would say otherwise.<br /><br />Do I recommend Charlie Banana diapers?  While very grateful they did the right thing and took care of me, I would not buy the current style of diapers.<br /><br />I would still cloth diaper my child and would either try FuzziBunz (have never tried them) or would go with prefolds and covers with Thirsties Duo Snapwrap and their Hemp Jersey Inserts - STILL LOVIN\\' THESE FOR NIGHT TIME! &lt;---- and folding them takes less time than stuffing a pocket diaper!<br />******End of Final Update******<br /><br />PS - I added some pictures.<br /><br />****update 1/4/14*****<br />Just wanted to add:<br /><br />My chunky 26 pound 16 month old is not yet walking (will be soon) but I\\'m having alot of trouble snapping the diapers over her chunky thighs on the largest setting.  The diapers seem to dig into her skin and leave red marks.  I\\'m hoping she will slim out some once she is walking, but for now I\\'m retiring my diapers and we are in a size 4 disposable (Earth\\'s Best).  Still, I definitely got my money\\'s worth.<br /><br />Also, the metal brackets of my sliding diapers have started to corrode - this may be because I soak my diapers overnight in cold water before washing.  So minus one again for sliding buckles and plus one for the old-style buttons..'"
      ]
     },
     "execution_count": 6,
     "metadata": {},
     "output_type": "execute_result"
    }
   ],
   "source": [
    "longest_review"
   ]
  },
  {
   "cell_type": "code",
   "execution_count": 15,
   "metadata": {},
   "outputs": [],
   "source": [
    "from transformers import BertTokenizer\n",
    "\n",
    "# Initialize the BERT tokenizer\n",
    "tokenizer = BertTokenizer.from_pretrained('bert-base-uncased')\n",
    "\n",
    "# Find the longest review\n",
    "# longest_review = max(loaded_data.text_edges, key=len)\n",
    "\n",
    "# Tokenize the longest review\n",
    "tokens = tokenizer(longest_review, padding=True, truncation=True, max_length=512, return_tensors=\"pt\")\n"
   ]
  },
  {
   "cell_type": "code",
   "execution_count": 13,
   "metadata": {},
   "outputs": [],
   "source": [
    "import torch\n",
    "from transformers import BertTokenizer, BertModel\n",
    "\n",
    "# 加载模型和分词器\n",
    "tokenizer = BertTokenizer.from_pretrained('bert-base-uncased')\n",
    "\n",
    "# 输入文本\n",
    "text = \"Hello, my dog is cute\"\n",
    "\n",
    "# 将文本编码为输入ID和注意力掩码\n",
    "inputs = tokenizer(longest_review, return_tensors='pt', max_length=512, truncation=True, padding=True)\n",
    "\n"
   ]
  },
  {
   "cell_type": "code",
   "execution_count": 18,
   "metadata": {},
   "outputs": [
    {
     "name": "stdout",
     "output_type": "stream",
     "text": [
      "Dataset: goodreads_children\n"
     ]
    },
    {
     "name": "stderr",
     "output_type": "stream",
     "text": [
      "/home/lizhuofeng/.local/lib/python3.10/site-packages/torch/storage.py:414: FutureWarning: You are using `torch.load` with `weights_only=False` (the current default value), which uses the default pickle module implicitly. It is possible to construct malicious pickle data which will execute arbitrary code during unpickling (See https://github.com/pytorch/pytorch/blob/main/SECURITY.md#untrusted-models for more details). In a future release, the default value for `weights_only` will be flipped to `True`. This limits the functions that could be executed during unpickling. Arbitrary objects will no longer be allowed to be loaded via this mode unless they are explicitly allowlisted by the user via `torch.serialization.add_safe_globals`. We recommend you start setting `weights_only=True` for any use case where you don't have full control of the loaded file. Please open an issue on GitHub for any issues related to this experimental feature.\n",
      "  return torch.load(io.BytesIO(b))\n"
     ]
    },
    {
     "name": "stdout",
     "output_type": "stream",
     "text": [
      "  File: children.pkl\n",
      "  Length of text_nodes: 216613\n",
      "  Length of text_edges: 734640\n",
      "  ---\n",
      "\n",
      "\n",
      "Dataset: goodreads_crime\n",
      "  File: crime.pkl\n",
      "  Length of text_nodes: 422642\n",
      "  Length of text_edges: 1849236\n",
      "  ---\n",
      "\n",
      "\n",
      "Dataset: goodreads_history\n",
      "  File: history.pkl\n",
      "  Length of text_nodes: 540796\n",
      "  Length of text_edges: 2066193\n",
      "  ---\n",
      "\n",
      "\n",
      "Dataset: reddit\n",
      "  File: reddit.pkl\n",
      "  Length of text_nodes: 512776\n",
      "  Length of text_edges: 256388\n",
      "  ---\n",
      "\n",
      "\n",
      "Dataset: twitter\n",
      "  File: twitter.pkl\n",
      "  Length of text_nodes: 60785\n",
      "  Length of text_edges: 74666\n",
      "  ---\n",
      "\n",
      "\n",
      "Dataset: amazon_baby\n",
      "  File: baby.pkl\n",
      "  Length of text_nodes: 186790\n",
      "  Length of text_edges: 1241083\n",
      "  ---\n",
      "\n",
      "\n",
      "Warning: No 'processed' directory found in README.md\n",
      "Dataset: goodreads_comics\n",
      "  File: comics.pkl\n",
      "  Length of text_nodes: 148658\n",
      "  Length of text_edges: 542338\n",
      "  ---\n",
      "\n",
      "\n",
      "Warning: No 'processed' directory found in .cache\n",
      "Warning: No 'processed' directory found in .gitattributes\n",
      "Dataset: amazon_movie\n",
      "  File: movie.pkl\n",
      "  Length of text_nodes: 174012\n",
      "  Length of text_edges: 1697533\n",
      "  ---\n",
      "\n",
      "\n"
     ]
    }
   ],
   "source": [
    "import os\n",
    "import pickle\n",
    "\n",
    "# 指定 Dataset 目录路径\n",
    "dataset_dir = \"Dataset\"\n",
    "\n",
    "# 遍历 Dataset 目录中的所有数据集文件夹\n",
    "for dataset_name in os.listdir(dataset_dir):\n",
    "    dataset_path = os.path.join(dataset_dir, dataset_name)\n",
    "    processed_dir = os.path.join(dataset_path, \"processed\")\n",
    "    \n",
    "    # 检查 processed 目录是否存在\n",
    "    if os.path.isdir(processed_dir):\n",
    "        print(f\"Dataset: {dataset_name}\")\n",
    "        \n",
    "        # 遍历 processed 目录中的所有文件\n",
    "        for filename in os.listdir(processed_dir):\n",
    "            if filename.endswith(\".pkl\"):\n",
    "                file_path = os.path.join(processed_dir, filename)\n",
    "                \n",
    "                # 读取 .pkl 文件\n",
    "                with open(file_path, 'rb') as file:\n",
    "                    data = pickle.load(file)\n",
    "                \n",
    "                # 打印文件名和长度信息\n",
    "                print(f\"  File: {filename}\")\n",
    "                print(f\"  Length of text_nodes: {len(data.text_nodes)}\")\n",
    "                print(f\"  Length of text_edges: {len(data.text_edges)}\")\n",
    "                print(\"  ---\")\n",
    "        \n",
    "        print(\"\\n\")  # 在不同数据集之间添加空行\n",
    "    else:\n",
    "        print(f\"Warning: No 'processed' directory found in {dataset_name}\")\n",
    "\n",
    "# ... existing code ..."
   ]
  },
  {
   "cell_type": "code",
   "execution_count": null,
   "metadata": {},
   "outputs": [],
   "source": []
  }
 ],
 "metadata": {
  "kernelspec": {
   "display_name": "Python 3",
   "language": "python",
   "name": "python3"
  },
  "language_info": {
   "codemirror_mode": {
    "name": "ipython",
    "version": 3
   },
   "file_extension": ".py",
   "mimetype": "text/x-python",
   "name": "python",
   "nbconvert_exporter": "python",
   "pygments_lexer": "ipython3",
   "version": "3.10.12"
  }
 },
 "nbformat": 4,
 "nbformat_minor": 2
}
