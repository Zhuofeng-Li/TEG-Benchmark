{
 "cells": [
  {
   "metadata": {
    "ExecuteTime": {
     "end_time": "2024-05-19T20:56:32.974544Z",
     "start_time": "2024-05-19T20:56:30.603443Z"
    }
   },
   "cell_type": "code",
   "source": [
    "import json\n",
    "\n",
    "from torch import Tensor\n",
    "import torch\n",
    "from transformers import AutoTokenizer, BloomModel"
   ],
   "id": "f61cb39804edf9b5",
   "outputs": [],
   "execution_count": 1
  },
  {
   "metadata": {
    "ExecuteTime": {
     "end_time": "2024-05-19T20:56:32.983014Z",
     "start_time": "2024-05-19T20:56:32.977326Z"
    }
   },
   "cell_type": "code",
   "source": [
    "with open('/home/opc/final_data.json') as f:\n",
    "    # Load JSON data\n",
    "    data = json.load(f)\n",
    "    # Print the loaded data\n",
    "    #print(data)\n",
    "review_text_only = [entry['review_text'] for entry in data]\n",
    "genre = [entry['genre'] for entry in data]\n",
    "description = [entry['description'] for entry in data]\n"
   ],
   "id": "initial_id",
   "outputs": [],
   "execution_count": 2
  },
  {
   "metadata": {
    "ExecuteTime": {
     "end_time": "2024-05-19T20:57:39.954454Z",
     "start_time": "2024-05-19T20:56:32.983944Z"
    }
   },
   "cell_type": "code",
   "source": [
    "\n",
    "\n",
    "tokenizer = AutoTokenizer.from_pretrained('izhx/udever-bloom-1b1')\n",
    "model = BloomModel.from_pretrained('izhx/udever-bloom-1b1')\n",
    "\n",
    "boq, eoq, bod, eod = '[BOQ]', '[EOQ]', '[BOD]', '[EOD]'\n",
    "eoq_id, eod_id = tokenizer.convert_tokens_to_ids([eoq, eod])\n",
    "\n",
    "if tokenizer.padding_side != 'left':\n",
    "    print('!!!', tokenizer.padding_side)\n",
    "    tokenizer.padding_side = 'left'\n",
    "\n",
    "\n",
    "def encode(texts: list, is_query: bool = True, max_length=300):\n",
    "    bos = boq if is_query else bod\n",
    "    eos_id = eoq_id if is_query else eod_id\n",
    "    texts = [bos + t for t in texts]\n",
    "    encoding = tokenizer(\n",
    "        texts, truncation=True, max_length=max_length - 1, padding=True\n",
    "    )\n",
    "    for ids, mask in zip(encoding['input_ids'], encoding['attention_mask']):\n",
    "        ids.append(eos_id)\n",
    "        mask.append(1)\n",
    "    inputs = tokenizer.pad(encoding, return_tensors='pt')\n",
    "    with torch.inference_mode():\n",
    "        outputs = model(**inputs)\n",
    "        embeds = outputs.last_hidden_state[:, -1]\n",
    "    return embeds\n",
    "\n",
    "\n"
   ],
   "id": "ed5d374271c1b72d",
   "outputs": [
    {
     "data": {
      "text/plain": [
       "tokenizer_config.json:   0%|          | 0.00/286 [00:00<?, ?B/s]"
      ],
      "application/vnd.jupyter.widget-view+json": {
       "version_major": 2,
       "version_minor": 0,
       "model_id": "d12a04a7094147408b35d3373ae9284d"
      }
     },
     "metadata": {},
     "output_type": "display_data"
    },
    {
     "data": {
      "text/plain": [
       "tokenizer.json:   0%|          | 0.00/14.5M [00:00<?, ?B/s]"
      ],
      "application/vnd.jupyter.widget-view+json": {
       "version_major": 2,
       "version_minor": 0,
       "model_id": "92015b40d7e24c23b890f6a7baa3c6db"
      }
     },
     "metadata": {},
     "output_type": "display_data"
    },
    {
     "data": {
      "text/plain": [
       "special_tokens_map.json:   0%|          | 0.00/96.0 [00:00<?, ?B/s]"
      ],
      "application/vnd.jupyter.widget-view+json": {
       "version_major": 2,
       "version_minor": 0,
       "model_id": "e395c1c7d29f48819f0585fbcdecb21e"
      }
     },
     "metadata": {},
     "output_type": "display_data"
    },
    {
     "name": "stderr",
     "output_type": "stream",
     "text": [
      "Special tokens have been added in the vocabulary, make sure the associated word embeddings are fine-tuned or trained.\n"
     ]
    },
    {
     "data": {
      "text/plain": [
       "config.json:   0%|          | 0.00/799 [00:00<?, ?B/s]"
      ],
      "application/vnd.jupyter.widget-view+json": {
       "version_major": 2,
       "version_minor": 0,
       "model_id": "1e8805dbc55447ffa45630190524ffb7"
      }
     },
     "metadata": {},
     "output_type": "display_data"
    },
    {
     "data": {
      "text/plain": [
       "pytorch_model.bin:   0%|          | 0.00/4.26G [00:00<?, ?B/s]"
      ],
      "application/vnd.jupyter.widget-view+json": {
       "version_major": 2,
       "version_minor": 0,
       "model_id": "6aadb270432843b7967d75b04e6a382b"
      }
     },
     "metadata": {},
     "output_type": "display_data"
    }
   ],
   "execution_count": 3
  },
  {
   "metadata": {
    "ExecuteTime": {
     "end_time": "2024-05-19T20:59:50.187685Z",
     "start_time": "2024-05-19T20:57:39.957178Z"
    }
   },
   "cell_type": "code",
   "source": [
    "review_text_embeds_udever_bloom = encode(review_text_only)\n",
    "description_embeds_udever_bloom = encode(description)\n",
    "genre_embeds_udever_bloom = encode(genre)"
   ],
   "id": "803ce3e880e60b8",
   "outputs": [
    {
     "name": "stderr",
     "output_type": "stream",
     "text": [
      "You're using a BloomTokenizerFast tokenizer. Please note that with a fast tokenizer, using the `__call__` method is faster than using a method to encode the text followed by a call to the `pad` method to get a padded encoding.\n"
     ]
    }
   ],
   "execution_count": 4
  },
  {
   "metadata": {
    "ExecuteTime": {
     "end_time": "2024-05-19T20:59:50.590551Z",
     "start_time": "2024-05-19T20:59:50.190362Z"
    }
   },
   "cell_type": "code",
   "source": "review_text_embeds_udever_bloom.head(10)",
   "id": "1f9f7f3eef1af443",
   "outputs": [
    {
     "ename": "AttributeError",
     "evalue": "'Tensor' object has no attribute 'head'",
     "output_type": "error",
     "traceback": [
      "\u001B[0;31m---------------------------------------------------------------------------\u001B[0m",
      "\u001B[0;31mAttributeError\u001B[0m                            Traceback (most recent call last)",
      "Input \u001B[0;32mIn [5]\u001B[0m, in \u001B[0;36m<cell line: 1>\u001B[0;34m()\u001B[0m\n\u001B[0;32m----> 1\u001B[0m \u001B[43mreview_text_embeds_udever_bloom\u001B[49m\u001B[38;5;241;43m.\u001B[39;49m\u001B[43mhead\u001B[49m(\u001B[38;5;241m10\u001B[39m)\n",
      "\u001B[0;31mAttributeError\u001B[0m: 'Tensor' object has no attribute 'head'"
     ]
    }
   ],
   "execution_count": 5
  },
  {
   "metadata": {},
   "cell_type": "code",
   "source": "",
   "id": "e1571cd08cb383a2",
   "outputs": [],
   "execution_count": null
  }
 ],
 "metadata": {
  "kernelspec": {
   "display_name": "Python 3",
   "language": "python",
   "name": "python3"
  },
  "language_info": {
   "codemirror_mode": {
    "name": "ipython",
    "version": 2
   },
   "file_extension": ".py",
   "mimetype": "text/x-python",
   "name": "python",
   "nbconvert_exporter": "python",
   "pygments_lexer": "ipython2",
   "version": "2.7.6"
  }
 },
 "nbformat": 4,
 "nbformat_minor": 5
}
