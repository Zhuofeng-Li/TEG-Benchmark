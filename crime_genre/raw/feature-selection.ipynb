{
 "cells": [
  {
   "cell_type": "code",
   "execution_count": 126,
   "metadata": {
    "tags": []
   },
   "outputs": [],
   "source": [
    "import pandas as pd\n",
    "import numpy as np\n",
    "\n",
    "from sklearn.metrics import roc_auc_score\n",
    "from sklearn.model_selection import KFold\n",
    "import time\n",
    "import xgboost as xgb\n",
    "from xgboost import XGBClassifier\n",
    "\n",
    "import matplotlib.pyplot as plt\n",
    "import matplotlib.gridspec as gridspec\n",
    "import seaborn as sns\n",
    "%matplotlib inline\n",
    "\n",
    "import warnings\n",
    "warnings.simplefilter('ignore', UserWarning)\n",
    "\n",
    "import gc\n",
    "gc.enable()"
   ]
  },
  {
   "cell_type": "markdown",
   "metadata": {},
   "source": [
    "# data load"
   ]
  },
  {
   "cell_type": "code",
   "execution_count": 127,
   "metadata": {
    "tags": []
   },
   "outputs": [],
   "source": [
    "#X = pd.read_csv('X.csv')\n",
    "#y = pd.read_csv('y.csv')\n",
    "data = pd.read_csv('feature_X.csv')\n",
    "#del data['y'] \n",
    "#del data['ds'] \n",
    "#del data['trend3'] \n",
    "X = data[[x for x in data.columns if x != 'target']]\n",
    "y = data['target']  \n",
    "#data = pd.concat([X,y], axis=1)"
   ]
  },
  {
   "cell_type": "code",
   "execution_count": 128,
   "metadata": {},
   "outputs": [
    {
     "data": {
      "text/html": [
       "<div>\n",
       "<style scoped>\n",
       "    .dataframe tbody tr th:only-of-type {\n",
       "        vertical-align: middle;\n",
       "    }\n",
       "\n",
       "    .dataframe tbody tr th {\n",
       "        vertical-align: top;\n",
       "    }\n",
       "\n",
       "    .dataframe thead th {\n",
       "        text-align: right;\n",
       "    }\n",
       "</style>\n",
       "<table border=\"1\" class=\"dataframe\">\n",
       "  <thead>\n",
       "    <tr style=\"text-align: right;\">\n",
       "      <th></th>\n",
       "      <th>month_begin*shakeamp_2Day</th>\n",
       "      <th>month_begin*shake_2Day</th>\n",
       "      <th>lag_3day*shake_Lowess_2Day</th>\n",
       "      <th>lag_2day*shake_Lowess_2Day</th>\n",
       "      <th>shake_Lowess_2Day</th>\n",
       "      <th>lag_2day*shake_Lowess_1Day</th>\n",
       "      <th>lag_3day*shake_2Day</th>\n",
       "      <th>shakeamp_2Day</th>\n",
       "      <th>shake_Lowess_1Day</th>\n",
       "      <th>month_begin*shake_7Day</th>\n",
       "      <th>...</th>\n",
       "      <th>month_begin^2</th>\n",
       "      <th>shake_Lowess_1Day_quantile</th>\n",
       "      <th>lag_3day^2</th>\n",
       "      <th>kurt_3Day</th>\n",
       "      <th>shake_2Day_quantile</th>\n",
       "      <th>continuous_down5Day</th>\n",
       "      <th>shakeamp_2Day_quantile</th>\n",
       "      <th>lag_3day_quantile</th>\n",
       "      <th>month_begin</th>\n",
       "      <th>lag_2day*shakeamp_2Day</th>\n",
       "    </tr>\n",
       "  </thead>\n",
       "  <tbody>\n",
       "    <tr>\n",
       "      <th>0</th>\n",
       "      <td>-0.012254</td>\n",
       "      <td>-0.0385</td>\n",
       "      <td>-0.199802</td>\n",
       "      <td>-0.199428</td>\n",
       "      <td>-0.063474</td>\n",
       "      <td>-0.103789</td>\n",
       "      <td>0.121190</td>\n",
       "      <td>0.012254</td>\n",
       "      <td>-0.033034</td>\n",
       "      <td>-0.1807</td>\n",
       "      <td>...</td>\n",
       "      <td>1</td>\n",
       "      <td>1</td>\n",
       "      <td>9.908645</td>\n",
       "      <td>-1.5</td>\n",
       "      <td>3</td>\n",
       "      <td>0</td>\n",
       "      <td>3</td>\n",
       "      <td>3</td>\n",
       "      <td>-1</td>\n",
       "      <td>0.0385</td>\n",
       "    </tr>\n",
       "    <tr>\n",
       "      <th>1</th>\n",
       "      <td>-0.007955</td>\n",
       "      <td>-0.0253</td>\n",
       "      <td>-0.103789</td>\n",
       "      <td>-0.105061</td>\n",
       "      <td>-0.033034</td>\n",
       "      <td>-0.062482</td>\n",
       "      <td>0.079490</td>\n",
       "      <td>0.007955</td>\n",
       "      <td>-0.019646</td>\n",
       "      <td>-0.1959</td>\n",
       "      <td>...</td>\n",
       "      <td>1</td>\n",
       "      <td>2</td>\n",
       "      <td>9.871536</td>\n",
       "      <td>-1.5</td>\n",
       "      <td>3</td>\n",
       "      <td>0</td>\n",
       "      <td>2</td>\n",
       "      <td>3</td>\n",
       "      <td>-1</td>\n",
       "      <td>0.0253</td>\n",
       "    </tr>\n",
       "    <tr>\n",
       "      <th>2</th>\n",
       "      <td>-0.029978</td>\n",
       "      <td>-0.0961</td>\n",
       "      <td>-0.062482</td>\n",
       "      <td>-0.062979</td>\n",
       "      <td>-0.019646</td>\n",
       "      <td>0.193459</td>\n",
       "      <td>0.305636</td>\n",
       "      <td>0.029978</td>\n",
       "      <td>0.060348</td>\n",
       "      <td>-0.2363</td>\n",
       "      <td>...</td>\n",
       "      <td>1</td>\n",
       "      <td>3</td>\n",
       "      <td>10.114944</td>\n",
       "      <td>-1.5</td>\n",
       "      <td>4</td>\n",
       "      <td>0</td>\n",
       "      <td>3</td>\n",
       "      <td>4</td>\n",
       "      <td>-1</td>\n",
       "      <td>0.0961</td>\n",
       "    </tr>\n",
       "    <tr>\n",
       "      <th>3</th>\n",
       "      <td>0.006330</td>\n",
       "      <td>0.0209</td>\n",
       "      <td>0.193459</td>\n",
       "      <td>0.199259</td>\n",
       "      <td>0.060348</td>\n",
       "      <td>0.071509</td>\n",
       "      <td>-0.066999</td>\n",
       "      <td>-0.006330</td>\n",
       "      <td>0.021658</td>\n",
       "      <td>-0.1056</td>\n",
       "      <td>...</td>\n",
       "      <td>1</td>\n",
       "      <td>2</td>\n",
       "      <td>10.276512</td>\n",
       "      <td>-1.5</td>\n",
       "      <td>2</td>\n",
       "      <td>0</td>\n",
       "      <td>2</td>\n",
       "      <td>4</td>\n",
       "      <td>-1</td>\n",
       "      <td>-0.0209</td>\n",
       "    </tr>\n",
       "    <tr>\n",
       "      <th>4</th>\n",
       "      <td>0.003322</td>\n",
       "      <td>0.0109</td>\n",
       "      <td>0.071509</td>\n",
       "      <td>0.071057</td>\n",
       "      <td>0.021658</td>\n",
       "      <td>-0.015859</td>\n",
       "      <td>-0.035990</td>\n",
       "      <td>-0.003322</td>\n",
       "      <td>-0.004834</td>\n",
       "      <td>-0.1222</td>\n",
       "      <td>...</td>\n",
       "      <td>1</td>\n",
       "      <td>2</td>\n",
       "      <td>10.901883</td>\n",
       "      <td>-1.5</td>\n",
       "      <td>2</td>\n",
       "      <td>0</td>\n",
       "      <td>2</td>\n",
       "      <td>4</td>\n",
       "      <td>-1</td>\n",
       "      <td>-0.0109</td>\n",
       "    </tr>\n",
       "    <tr>\n",
       "      <th>...</th>\n",
       "      <td>...</td>\n",
       "      <td>...</td>\n",
       "      <td>...</td>\n",
       "      <td>...</td>\n",
       "      <td>...</td>\n",
       "      <td>...</td>\n",
       "      <td>...</td>\n",
       "      <td>...</td>\n",
       "      <td>...</td>\n",
       "      <td>...</td>\n",
       "      <td>...</td>\n",
       "      <td>...</td>\n",
       "      <td>...</td>\n",
       "      <td>...</td>\n",
       "      <td>...</td>\n",
       "      <td>...</td>\n",
       "      <td>...</td>\n",
       "      <td>...</td>\n",
       "      <td>...</td>\n",
       "      <td>...</td>\n",
       "      <td>...</td>\n",
       "    </tr>\n",
       "    <tr>\n",
       "      <th>1203</th>\n",
       "      <td>0.012951</td>\n",
       "      <td>0.0140</td>\n",
       "      <td>-0.010216</td>\n",
       "      <td>-0.010179</td>\n",
       "      <td>-0.009416</td>\n",
       "      <td>-0.031297</td>\n",
       "      <td>-0.015190</td>\n",
       "      <td>-0.012951</td>\n",
       "      <td>-0.028952</td>\n",
       "      <td>-0.0300</td>\n",
       "      <td>...</td>\n",
       "      <td>1</td>\n",
       "      <td>1</td>\n",
       "      <td>1.177225</td>\n",
       "      <td>-1.5</td>\n",
       "      <td>2</td>\n",
       "      <td>0</td>\n",
       "      <td>1</td>\n",
       "      <td>0</td>\n",
       "      <td>-1</td>\n",
       "      <td>-0.0140</td>\n",
       "    </tr>\n",
       "    <tr>\n",
       "      <th>1204</th>\n",
       "      <td>0.001874</td>\n",
       "      <td>0.0020</td>\n",
       "      <td>-0.031297</td>\n",
       "      <td>-0.030892</td>\n",
       "      <td>-0.028952</td>\n",
       "      <td>-0.039123</td>\n",
       "      <td>-0.002162</td>\n",
       "      <td>-0.001874</td>\n",
       "      <td>-0.036666</td>\n",
       "      <td>-0.0150</td>\n",
       "      <td>...</td>\n",
       "      <td>1</td>\n",
       "      <td>1</td>\n",
       "      <td>1.168561</td>\n",
       "      <td>-1.5</td>\n",
       "      <td>2</td>\n",
       "      <td>0</td>\n",
       "      <td>2</td>\n",
       "      <td>0</td>\n",
       "      <td>-1</td>\n",
       "      <td>-0.0020</td>\n",
       "    </tr>\n",
       "    <tr>\n",
       "      <th>1205</th>\n",
       "      <td>-0.016901</td>\n",
       "      <td>-0.0180</td>\n",
       "      <td>-0.039123</td>\n",
       "      <td>-0.039049</td>\n",
       "      <td>-0.036666</td>\n",
       "      <td>-0.026157</td>\n",
       "      <td>0.019206</td>\n",
       "      <td>0.016901</td>\n",
       "      <td>-0.024561</td>\n",
       "      <td>-0.0110</td>\n",
       "      <td>...</td>\n",
       "      <td>1</td>\n",
       "      <td>2</td>\n",
       "      <td>1.138489</td>\n",
       "      <td>-1.5</td>\n",
       "      <td>2</td>\n",
       "      <td>0</td>\n",
       "      <td>3</td>\n",
       "      <td>0</td>\n",
       "      <td>-1</td>\n",
       "      <td>0.0180</td>\n",
       "    </tr>\n",
       "    <tr>\n",
       "      <th>1206</th>\n",
       "      <td>-0.028624</td>\n",
       "      <td>-0.0310</td>\n",
       "      <td>-0.026157</td>\n",
       "      <td>-0.026599</td>\n",
       "      <td>-0.024561</td>\n",
       "      <td>0.000369</td>\n",
       "      <td>0.033015</td>\n",
       "      <td>0.028624</td>\n",
       "      <td>0.000341</td>\n",
       "      <td>-0.0270</td>\n",
       "      <td>...</td>\n",
       "      <td>1</td>\n",
       "      <td>2</td>\n",
       "      <td>1.134225</td>\n",
       "      <td>-1.5</td>\n",
       "      <td>3</td>\n",
       "      <td>0</td>\n",
       "      <td>3</td>\n",
       "      <td>0</td>\n",
       "      <td>-1</td>\n",
       "      <td>0.0310</td>\n",
       "    </tr>\n",
       "    <tr>\n",
       "      <th>1207</th>\n",
       "      <td>-0.043088</td>\n",
       "      <td>-0.0480</td>\n",
       "      <td>0.000369</td>\n",
       "      <td>0.000380</td>\n",
       "      <td>0.000341</td>\n",
       "      <td>0.046795</td>\n",
       "      <td>0.051984</td>\n",
       "      <td>0.043088</td>\n",
       "      <td>0.042006</td>\n",
       "      <td>-0.0770</td>\n",
       "      <td>...</td>\n",
       "      <td>1</td>\n",
       "      <td>3</td>\n",
       "      <td>1.172889</td>\n",
       "      <td>-1.5</td>\n",
       "      <td>3</td>\n",
       "      <td>0</td>\n",
       "      <td>4</td>\n",
       "      <td>0</td>\n",
       "      <td>-1</td>\n",
       "      <td>0.0480</td>\n",
       "    </tr>\n",
       "  </tbody>\n",
       "</table>\n",
       "<p>1208 rows × 131 columns</p>\n",
       "</div>"
      ],
      "text/plain": [
       "      month_begin*shakeamp_2Day  month_begin*shake_2Day  \\\n",
       "0                     -0.012254                 -0.0385   \n",
       "1                     -0.007955                 -0.0253   \n",
       "2                     -0.029978                 -0.0961   \n",
       "3                      0.006330                  0.0209   \n",
       "4                      0.003322                  0.0109   \n",
       "...                         ...                     ...   \n",
       "1203                   0.012951                  0.0140   \n",
       "1204                   0.001874                  0.0020   \n",
       "1205                  -0.016901                 -0.0180   \n",
       "1206                  -0.028624                 -0.0310   \n",
       "1207                  -0.043088                 -0.0480   \n",
       "\n",
       "      lag_3day*shake_Lowess_2Day  lag_2day*shake_Lowess_2Day  \\\n",
       "0                      -0.199802                   -0.199428   \n",
       "1                      -0.103789                   -0.105061   \n",
       "2                      -0.062482                   -0.062979   \n",
       "3                       0.193459                    0.199259   \n",
       "4                       0.071509                    0.071057   \n",
       "...                          ...                         ...   \n",
       "1203                   -0.010216                   -0.010179   \n",
       "1204                   -0.031297                   -0.030892   \n",
       "1205                   -0.039123                   -0.039049   \n",
       "1206                   -0.026157                   -0.026599   \n",
       "1207                    0.000369                    0.000380   \n",
       "\n",
       "      shake_Lowess_2Day  lag_2day*shake_Lowess_1Day  lag_3day*shake_2Day  \\\n",
       "0             -0.063474                   -0.103789             0.121190   \n",
       "1             -0.033034                   -0.062482             0.079490   \n",
       "2             -0.019646                    0.193459             0.305636   \n",
       "3              0.060348                    0.071509            -0.066999   \n",
       "4              0.021658                   -0.015859            -0.035990   \n",
       "...                 ...                         ...                  ...   \n",
       "1203          -0.009416                   -0.031297            -0.015190   \n",
       "1204          -0.028952                   -0.039123            -0.002162   \n",
       "1205          -0.036666                   -0.026157             0.019206   \n",
       "1206          -0.024561                    0.000369             0.033015   \n",
       "1207           0.000341                    0.046795             0.051984   \n",
       "\n",
       "      shakeamp_2Day  shake_Lowess_1Day  month_begin*shake_7Day  ...  \\\n",
       "0          0.012254          -0.033034                 -0.1807  ...   \n",
       "1          0.007955          -0.019646                 -0.1959  ...   \n",
       "2          0.029978           0.060348                 -0.2363  ...   \n",
       "3         -0.006330           0.021658                 -0.1056  ...   \n",
       "4         -0.003322          -0.004834                 -0.1222  ...   \n",
       "...             ...                ...                     ...  ...   \n",
       "1203      -0.012951          -0.028952                 -0.0300  ...   \n",
       "1204      -0.001874          -0.036666                 -0.0150  ...   \n",
       "1205       0.016901          -0.024561                 -0.0110  ...   \n",
       "1206       0.028624           0.000341                 -0.0270  ...   \n",
       "1207       0.043088           0.042006                 -0.0770  ...   \n",
       "\n",
       "      month_begin^2  shake_Lowess_1Day_quantile  lag_3day^2  kurt_3Day  \\\n",
       "0                 1                           1    9.908645       -1.5   \n",
       "1                 1                           2    9.871536       -1.5   \n",
       "2                 1                           3   10.114944       -1.5   \n",
       "3                 1                           2   10.276512       -1.5   \n",
       "4                 1                           2   10.901883       -1.5   \n",
       "...             ...                         ...         ...        ...   \n",
       "1203              1                           1    1.177225       -1.5   \n",
       "1204              1                           1    1.168561       -1.5   \n",
       "1205              1                           2    1.138489       -1.5   \n",
       "1206              1                           2    1.134225       -1.5   \n",
       "1207              1                           3    1.172889       -1.5   \n",
       "\n",
       "      shake_2Day_quantile  continuous_down5Day  shakeamp_2Day_quantile  \\\n",
       "0                       3                    0                       3   \n",
       "1                       3                    0                       2   \n",
       "2                       4                    0                       3   \n",
       "3                       2                    0                       2   \n",
       "4                       2                    0                       2   \n",
       "...                   ...                  ...                     ...   \n",
       "1203                    2                    0                       1   \n",
       "1204                    2                    0                       2   \n",
       "1205                    2                    0                       3   \n",
       "1206                    3                    0                       3   \n",
       "1207                    3                    0                       4   \n",
       "\n",
       "      lag_3day_quantile  month_begin  lag_2day*shakeamp_2Day  \n",
       "0                     3           -1                  0.0385  \n",
       "1                     3           -1                  0.0253  \n",
       "2                     4           -1                  0.0961  \n",
       "3                     4           -1                 -0.0209  \n",
       "4                     4           -1                 -0.0109  \n",
       "...                 ...          ...                     ...  \n",
       "1203                  0           -1                 -0.0140  \n",
       "1204                  0           -1                 -0.0020  \n",
       "1205                  0           -1                  0.0180  \n",
       "1206                  0           -1                  0.0310  \n",
       "1207                  0           -1                  0.0480  \n",
       "\n",
       "[1208 rows x 131 columns]"
      ]
     },
     "execution_count": 128,
     "metadata": {},
     "output_type": "execute_result"
    }
   ],
   "source": [
    "X"
   ]
  },
  {
   "cell_type": "code",
   "execution_count": 129,
   "metadata": {
    "tags": []
   },
   "outputs": [],
   "source": [
    "categorical_feats = [\n",
    "    f for f in data.columns if data[f].dtype == 'object'\n",
    "]\n",
    "\n",
    "categorical_feats\n",
    "for f_ in categorical_feats:\n",
    "    data[f_], _ = pd.factorize(data[f_])\n",
    "    # Set feature type as categorical\n",
    "    data[f_] = data[f_].astype('category')"
   ]
  },
  {
   "cell_type": "code",
   "execution_count": 130,
   "metadata": {
    "tags": []
   },
   "outputs": [],
   "source": [
    "feature_name = [f for f in data if f not in ['target']]"
   ]
  },
  {
   "cell_type": "markdown",
   "metadata": {},
   "source": [
    "# feature importance"
   ]
  },
  {
   "cell_type": "code",
   "execution_count": 131,
   "metadata": {
    "tags": []
   },
   "outputs": [],
   "source": [
    "importances = []\n",
    "def get_feature_importances(data, shuffle, seed=None):\n",
    "    # Gather real features\n",
    "    train_features = [f for f in data if f not in ['target']]\n",
    "    # Go over fold and keep track of CV score (train and valid) and feature importances\n",
    "    \n",
    "    # Shuffle target if required\n",
    "    y = data['target'].copy()\n",
    "    if shuffle:\n",
    "        # Here you could as well use a binomial distribution\n",
    "        y = data['target'].copy().sample(frac=1.0)\n",
    "    dtrain = xgb.DMatrix(X, y)\n",
    "    xgb_parms = { \n",
    "        'max_depth':6, \n",
    "        'learning_rate':0.001, \n",
    "        'subsample':0.7,\n",
    "        'colsample_bytree':0.7, \n",
    "        'eval_metric':'logloss',\n",
    "        'objective':'binary:logistic',\n",
    "        'random_state':42\n",
    "    }\n",
    "    # Fit the model\n",
    "    model = xgb.train(xgb_parms, \n",
    "            dtrain=dtrain) \n",
    "    # Get feature importances\n",
    "    actual_imp_df = pd.DataFrame()\n",
    "    actual_imp_df[\"feature\"] = list(feature_name)\n",
    "    actual_imp_df[\"importance_gain\"] = 0\n",
    "    actual_imp_df[\"importance_split\"] = 0\n",
    "    actual_imp_df['trn_score'] = 0\n",
    "    \n",
    "    dd = model.get_score(importance_type='gain')\n",
    "    df = pd.DataFrame({'feature':dd.keys(),'importance_gain':dd.values()})\n",
    "    for i in df['feature']:\n",
    "        temp = df.loc[df['feature'] == i]['importance_gain'].values\n",
    "        actual_imp_df.loc[actual_imp_df['feature'] == i,'importance_gain'] = temp\n",
    "    dd = model.get_score(importance_type='weight')\n",
    "    df = pd.DataFrame({'feature':dd.keys(),'importance_split':dd.values()})\n",
    "    for i in df['feature']:\n",
    "        temp = df.loc[df['feature'] == i]['importance_split'].values\n",
    "        actual_imp_df.loc[actual_imp_df['feature'] == i,'importance_split'] = temp\n",
    "    actual_imp_df['trn_score'] = roc_auc_score(y, model.predict(xgb.DMatrix(data[train_features])))\n",
    "    return actual_imp_df"
   ]
  },
  {
   "cell_type": "code",
   "execution_count": 132,
   "metadata": {
    "tags": []
   },
   "outputs": [],
   "source": [
    "actual_imp_df = get_feature_importances(data=data, shuffle=False)"
   ]
  },
  {
   "cell_type": "code",
   "execution_count": 133,
   "metadata": {
    "tags": []
   },
   "outputs": [],
   "source": [
    "actual_imp_df.to_csv('actual_imp_df_xgboost.csv', index=False)"
   ]
  },
  {
   "cell_type": "markdown",
   "metadata": {},
   "source": [
    "# Null Importances distribution"
   ]
  },
  {
   "cell_type": "code",
   "execution_count": 134,
   "metadata": {
    "tags": []
   },
   "outputs": [
    {
     "name": "stdout",
     "output_type": "stream",
     "text": []
    },
    {
     "name": "stdout",
     "output_type": "stream",
     "text": []
    },
    {
     "name": "stdout",
     "output_type": "stream",
     "text": []
    },
    {
     "name": "stdout",
     "output_type": "stream",
     "text": []
    },
    {
     "name": "stdout",
     "output_type": "stream",
     "text": []
    },
    {
     "name": "stdout",
     "output_type": "stream",
     "text": []
    },
    {
     "name": "stdout",
     "output_type": "stream",
     "text": []
    },
    {
     "name": "stdout",
     "output_type": "stream",
     "text": []
    },
    {
     "name": "stdout",
     "output_type": "stream",
     "text": []
    },
    {
     "name": "stdout",
     "output_type": "stream",
     "text": []
    },
    {
     "name": "stdout",
     "output_type": "stream",
     "text": []
    },
    {
     "name": "stdout",
     "output_type": "stream",
     "text": []
    },
    {
     "name": "stdout",
     "output_type": "stream",
     "text": []
    },
    {
     "name": "stdout",
     "output_type": "stream",
     "text": []
    },
    {
     "name": "stdout",
     "output_type": "stream",
     "text": []
    },
    {
     "name": "stdout",
     "output_type": "stream",
     "text": []
    },
    {
     "name": "stdout",
     "output_type": "stream",
     "text": []
    },
    {
     "name": "stdout",
     "output_type": "stream",
     "text": []
    },
    {
     "name": "stdout",
     "output_type": "stream",
     "text": []
    },
    {
     "name": "stdout",
     "output_type": "stream",
     "text": []
    },
    {
     "name": "stdout",
     "output_type": "stream",
     "text": []
    },
    {
     "name": "stdout",
     "output_type": "stream",
     "text": []
    },
    {
     "name": "stdout",
     "output_type": "stream",
     "text": []
    },
    {
     "name": "stdout",
     "output_type": "stream",
     "text": []
    },
    {
     "name": "stdout",
     "output_type": "stream",
     "text": []
    },
    {
     "name": "stdout",
     "output_type": "stream",
     "text": []
    },
    {
     "name": "stdout",
     "output_type": "stream",
     "text": []
    },
    {
     "name": "stdout",
     "output_type": "stream",
     "text": []
    },
    {
     "name": "stdout",
     "output_type": "stream",
     "text": []
    },
    {
     "name": "stdout",
     "output_type": "stream",
     "text": []
    },
    {
     "name": "stdout",
     "output_type": "stream",
     "text": []
    },
    {
     "name": "stdout",
     "output_type": "stream",
     "text": []
    },
    {
     "name": "stdout",
     "output_type": "stream",
     "text": []
    },
    {
     "name": "stdout",
     "output_type": "stream",
     "text": []
    },
    {
     "name": "stdout",
     "output_type": "stream",
     "text": []
    },
    {
     "name": "stdout",
     "output_type": "stream",
     "text": []
    },
    {
     "name": "stdout",
     "output_type": "stream",
     "text": []
    },
    {
     "name": "stdout",
     "output_type": "stream",
     "text": []
    },
    {
     "name": "stdout",
     "output_type": "stream",
     "text": []
    },
    {
     "name": "stdout",
     "output_type": "stream",
     "text": []
    },
    {
     "name": "stdout",
     "output_type": "stream",
     "text": []
    },
    {
     "name": "stdout",
     "output_type": "stream",
     "text": []
    },
    {
     "name": "stdout",
     "output_type": "stream",
     "text": []
    },
    {
     "name": "stdout",
     "output_type": "stream",
     "text": []
    },
    {
     "name": "stdout",
     "output_type": "stream",
     "text": []
    },
    {
     "name": "stdout",
     "output_type": "stream",
     "text": []
    },
    {
     "name": "stdout",
     "output_type": "stream",
     "text": []
    },
    {
     "name": "stdout",
     "output_type": "stream",
     "text": []
    },
    {
     "name": "stdout",
     "output_type": "stream",
     "text": []
    },
    {
     "name": "stdout",
     "output_type": "stream",
     "text": []
    },
    {
     "name": "stdout",
     "output_type": "stream",
     "text": []
    },
    {
     "name": "stdout",
     "output_type": "stream",
     "text": []
    },
    {
     "name": "stdout",
     "output_type": "stream",
     "text": []
    },
    {
     "name": "stdout",
     "output_type": "stream",
     "text": []
    },
    {
     "name": "stdout",
     "output_type": "stream",
     "text": []
    },
    {
     "name": "stdout",
     "output_type": "stream",
     "text": []
    },
    {
     "name": "stdout",
     "output_type": "stream",
     "text": []
    },
    {
     "name": "stdout",
     "output_type": "stream",
     "text": []
    },
    {
     "name": "stdout",
     "output_type": "stream",
     "text": []
    },
    {
     "name": "stdout",
     "output_type": "stream",
     "text": []
    },
    {
     "name": "stdout",
     "output_type": "stream",
     "text": []
    },
    {
     "name": "stdout",
     "output_type": "stream",
     "text": []
    },
    {
     "name": "stdout",
     "output_type": "stream",
     "text": []
    },
    {
     "name": "stdout",
     "output_type": "stream",
     "text": []
    },
    {
     "name": "stdout",
     "output_type": "stream",
     "text": []
    },
    {
     "name": "stdout",
     "output_type": "stream",
     "text": []
    },
    {
     "name": "stdout",
     "output_type": "stream",
     "text": []
    },
    {
     "name": "stdout",
     "output_type": "stream",
     "text": []
    },
    {
     "name": "stdout",
     "output_type": "stream",
     "text": []
    },
    {
     "name": "stdout",
     "output_type": "stream",
     "text": []
    },
    {
     "name": "stdout",
     "output_type": "stream",
     "text": []
    },
    {
     "name": "stdout",
     "output_type": "stream",
     "text": []
    },
    {
     "name": "stdout",
     "output_type": "stream",
     "text": []
    },
    {
     "name": "stdout",
     "output_type": "stream",
     "text": []
    },
    {
     "name": "stdout",
     "output_type": "stream",
     "text": []
    },
    {
     "name": "stdout",
     "output_type": "stream",
     "text": []
    },
    {
     "name": "stdout",
     "output_type": "stream",
     "text": []
    },
    {
     "name": "stdout",
     "output_type": "stream",
     "text": []
    },
    {
     "name": "stdout",
     "output_type": "stream",
     "text": []
    },
    {
     "name": "stdout",
     "output_type": "stream",
     "text": []
    },
    {
     "name": "stdout",
     "output_type": "stream",
     "text": []
    },
    {
     "name": "stdout",
     "output_type": "stream",
     "text": []
    },
    {
     "name": "stdout",
     "output_type": "stream",
     "text": []
    },
    {
     "name": "stdout",
     "output_type": "stream",
     "text": []
    },
    {
     "name": "stdout",
     "output_type": "stream",
     "text": []
    },
    {
     "name": "stdout",
     "output_type": "stream",
     "text": []
    },
    {
     "name": "stdout",
     "output_type": "stream",
     "text": []
    },
    {
     "name": "stdout",
     "output_type": "stream",
     "text": []
    },
    {
     "name": "stdout",
     "output_type": "stream",
     "text": []
    },
    {
     "name": "stdout",
     "output_type": "stream",
     "text": []
    },
    {
     "name": "stdout",
     "output_type": "stream",
     "text": []
    },
    {
     "name": "stdout",
     "output_type": "stream",
     "text": []
    },
    {
     "name": "stdout",
     "output_type": "stream",
     "text": []
    },
    {
     "name": "stdout",
     "output_type": "stream",
     "text": []
    },
    {
     "name": "stdout",
     "output_type": "stream",
     "text": []
    },
    {
     "name": "stdout",
     "output_type": "stream",
     "text": []
    },
    {
     "name": "stdout",
     "output_type": "stream",
     "text": []
    },
    {
     "name": "stdout",
     "output_type": "stream",
     "text": []
    },
    {
     "name": "stdout",
     "output_type": "stream",
     "text": []
    },
    {
     "name": "stdout",
     "output_type": "stream",
     "text": [
      "Done with  100 of  100 (Spent   0.4 min)"
     ]
    }
   ],
   "source": [
    "null_imp_df = pd.DataFrame()\n",
    "nb_runs = 100\n",
    "import time\n",
    "start = time.time()\n",
    "dsp = ''\n",
    "for i in range(nb_runs):\n",
    "    # Get current run importances\n",
    "    imp_df = get_feature_importances(data=data, shuffle=True)\n",
    "    imp_df['run'] = i + 1 \n",
    "    # Concat the latest importances with the old ones\n",
    "    null_imp_df = pd.concat([null_imp_df, imp_df], axis=0)\n",
    "    # Erase previous message\n",
    "    for l in range(len(dsp)):\n",
    "        print('\\b', end='', flush=True)\n",
    "    # Display current run and time used\n",
    "    spent = (time.time() - start) / 60\n",
    "    dsp = 'Done with %4d of %4d (Spent %5.1f min)' % (i + 1, nb_runs, spent)\n",
    "    print(dsp, end='', flush=True)"
   ]
  },
  {
   "cell_type": "code",
   "execution_count": 135,
   "metadata": {
    "tags": []
   },
   "outputs": [],
   "source": [
    "null_imp_df.to_csv('null_imp_df_xgboost.csv', index=False)"
   ]
  },
  {
   "cell_type": "markdown",
   "metadata": {},
   "source": [
    "# Display distribution examples"
   ]
  },
  {
   "cell_type": "code",
   "execution_count": 122,
   "metadata": {
    "tags": []
   },
   "outputs": [],
   "source": [
    "def display_distributions(actual_imp_df_, null_imp_df_, feature_):\n",
    "    plt.figure(figsize=(13, 6))\n",
    "    gs = gridspec.GridSpec(1, 2)\n",
    "    # Plot Split importances\n",
    "    ax = plt.subplot(gs[0, 0])\n",
    "    a = ax.hist(null_imp_df_.loc[null_imp_df_['feature'] == feature_, 'importance_split'].values,label='Null importances')\n",
    "    ax.vlines(x=actual_imp_df_.loc[actual_imp_df_['feature'] == feature_, 'importance_split'].mean(), \n",
    "               ymin=0, ymax=np.max(a[0]), color='r',linewidth=10, label='Real Target')\n",
    "    ax.legend()\n",
    "    ax.set_title('Split Importance of %s' % feature_.upper(), fontweight='bold')\n",
    "    plt.xlabel('Null Importance (split) Distribution for %s ' % feature_.upper())\n",
    "    # Plot Gain importances\n",
    "    ax = plt.subplot(gs[0, 1])\n",
    "    a = ax.hist(null_imp_df_.loc[null_imp_df_['feature'] == feature_, 'importance_gain'].values, label='Null importances')\n",
    "    ax.vlines(x=actual_imp_df_.loc[actual_imp_df_['feature'] == feature_, 'importance_gain'].mean(), \n",
    "               ymin=0, ymax=np.max(a[0]), color='r',linewidth=10, label='Real Target')\n",
    "    ax.legend()\n",
    "    ax.set_title('Gain Importance of %s' % feature_.upper(), fontweight='bold')\n",
    "    plt.xlabel('Null Importance (gain) Distribution for %s ' % feature_.upper())"
   ]
  },
  {
   "cell_type": "code",
   "execution_count": 123,
   "metadata": {
    "tags": []
   },
   "outputs": [
    {
     "data": {
      "image/png": "[encoded data removed]",
      "text/plain": [
       "<Figure size 936x432 with 2 Axes>"
      ]
     },
     "metadata": {
      "needs_background": "light"
     },
     "output_type": "display_data"
    }
   ],
   "source": [
    "#无用特征\n",
    "display_distributions(actual_imp_df_=actual_imp_df, null_imp_df_=null_imp_df, feature_='month_begin*shakeamp_2Day')"
   ]
  },
  {
   "cell_type": "code",
   "execution_count": 124,
   "metadata": {
    "tags": []
   },
   "outputs": [
    {
     "data": {
      "image/png": "[encoded data removed]",
      "text/plain": [
       "<Figure size 936x432 with 2 Axes>"
      ]
     },
     "metadata": {
      "needs_background": "light"
     },
     "output_type": "display_data"
    }
   ],
   "source": [
    "#优秀特征\n",
    "display_distributions(actual_imp_df_=actual_imp_df, null_imp_df_=null_imp_df, feature_='shake_Lowess_1Day_quantile')"
   ]
  },
  {
   "cell_type": "markdown",
   "metadata": {},
   "source": [
    "# Score features"
   ]
  },
  {
   "cell_type": "code",
   "execution_count": 125,
   "metadata": {
    "tags": []
   },
   "outputs": [
    {
     "data": {
      "image/png": "[encoded data removed]",
      "text/plain": [
       "<Figure size 1152x1152 with 2 Axes>"
      ]
     },
     "metadata": {
      "needs_background": "light"
     },
     "output_type": "display_data"
    }
   ],
   "source": [
    "feature_scores = []\n",
    "for _f in actual_imp_df['feature'].unique():\n",
    "    f_null_imps_gain = null_imp_df.loc[null_imp_df['feature'] == _f, 'importance_gain'].values\n",
    "    f_act_imps_gain = actual_imp_df.loc[actual_imp_df['feature'] == _f, 'importance_gain'].mean()\n",
    "    gain_score = np.log(1e-10 + f_act_imps_gain / (1 + np.percentile(f_null_imps_gain, 75)))  # Avoid didvide by zero\n",
    "    f_null_imps_split = null_imp_df.loc[null_imp_df['feature'] == _f, 'importance_split'].values\n",
    "    f_act_imps_split = actual_imp_df.loc[actual_imp_df['feature'] == _f, 'importance_split'].mean()\n",
    "    split_score = np.log(1e-10 + f_act_imps_split / (1 + np.percentile(f_null_imps_split, 75)))  # Avoid didvide by zero\n",
    "    feature_scores.append((_f, split_score, gain_score))\n",
    "\n",
    "scores_df = pd.DataFrame(feature_scores, columns=['feature', 'split_score', 'gain_score'])\n",
    "\n",
    "plt.figure(figsize=(16, 16))\n",
    "gs = gridspec.GridSpec(1, 2)\n",
    "# Plot Split importances\n",
    "ax = plt.subplot(gs[0, 0])\n",
    "sns.barplot(x='split_score', y='feature', data=scores_df.sort_values('split_score', ascending=False).iloc[0:70], ax=ax)\n",
    "ax.set_title('Feature scores wrt split importances', fontweight='bold', fontsize=14)\n",
    "# Plot Gain importances\n",
    "ax = plt.subplot(gs[0, 1])\n",
    "sns.barplot(x='gain_score', y='feature', data=scores_df.sort_values('gain_score', ascending=False).iloc[0:70], ax=ax)\n",
    "ax.set_title('Feature scores wrt gain importances', fontweight='bold', fontsize=14)\n",
    "plt.tight_layout()"
   ]
  },
  {
   "cell_type": "code",
   "execution_count": 61,
   "metadata": {},
   "outputs": [
    {
     "data": {
      "text/html": [
       "<div>\n",
       "<style scoped>\n",
       "    .dataframe tbody tr th:only-of-type {\n",
       "        vertical-align: middle;\n",
       "    }\n",
       "\n",
       "    .dataframe tbody tr th {\n",
       "        vertical-align: top;\n",
       "    }\n",
       "\n",
       "    .dataframe thead th {\n",
       "        text-align: right;\n",
       "    }\n",
       "</style>\n",
       "<table border=\"1\" class=\"dataframe\">\n",
       "  <thead>\n",
       "    <tr style=\"text-align: right;\">\n",
       "      <th></th>\n",
       "      <th>feature</th>\n",
       "      <th>split_score</th>\n",
       "      <th>gain_score</th>\n",
       "    </tr>\n",
       "  </thead>\n",
       "  <tbody>\n",
       "    <tr>\n",
       "      <th>0</th>\n",
       "      <td>lag_1day</td>\n",
       "      <td>-6.931472e-01</td>\n",
       "      <td>-0.539258</td>\n",
       "    </tr>\n",
       "    <tr>\n",
       "      <th>1</th>\n",
       "      <td>lag_2day</td>\n",
       "      <td>-4.054651e-01</td>\n",
       "      <td>-0.258063</td>\n",
       "    </tr>\n",
       "    <tr>\n",
       "      <th>2</th>\n",
       "      <td>lag_3day</td>\n",
       "      <td>1.000000e-10</td>\n",
       "      <td>-0.370114</td>\n",
       "    </tr>\n",
       "    <tr>\n",
       "      <th>3</th>\n",
       "      <td>lag_4day</td>\n",
       "      <td>-4.054651e-01</td>\n",
       "      <td>-0.168633</td>\n",
       "    </tr>\n",
       "    <tr>\n",
       "      <th>4</th>\n",
       "      <td>lag_5day</td>\n",
       "      <td>-2.302585e+01</td>\n",
       "      <td>-23.025851</td>\n",
       "    </tr>\n",
       "    <tr>\n",
       "      <th>5</th>\n",
       "      <td>lag_6day</td>\n",
       "      <td>-8.109302e-01</td>\n",
       "      <td>-0.114228</td>\n",
       "    </tr>\n",
       "    <tr>\n",
       "      <th>6</th>\n",
       "      <td>lag_7day</td>\n",
       "      <td>-3.364722e-01</td>\n",
       "      <td>-0.454039</td>\n",
       "    </tr>\n",
       "    <tr>\n",
       "      <th>7</th>\n",
       "      <td>shake_2Day</td>\n",
       "      <td>2.682640e-01</td>\n",
       "      <td>1.347211</td>\n",
       "    </tr>\n",
       "    <tr>\n",
       "      <th>8</th>\n",
       "      <td>shakeamp_2Day</td>\n",
       "      <td>7.537718e-01</td>\n",
       "      <td>1.313542</td>\n",
       "    </tr>\n",
       "    <tr>\n",
       "      <th>9</th>\n",
       "      <td>shake_3Day</td>\n",
       "      <td>1.732717e-01</td>\n",
       "      <td>0.001543</td>\n",
       "    </tr>\n",
       "    <tr>\n",
       "      <th>10</th>\n",
       "      <td>shakeamp_3Day</td>\n",
       "      <td>4.054651e-01</td>\n",
       "      <td>0.095092</td>\n",
       "    </tr>\n",
       "    <tr>\n",
       "      <th>11</th>\n",
       "      <td>shake_4Day</td>\n",
       "      <td>1.335314e-01</td>\n",
       "      <td>0.048102</td>\n",
       "    </tr>\n",
       "    <tr>\n",
       "      <th>12</th>\n",
       "      <td>shakeamp_4Day</td>\n",
       "      <td>4.054651e-01</td>\n",
       "      <td>-0.070856</td>\n",
       "    </tr>\n",
       "    <tr>\n",
       "      <th>13</th>\n",
       "      <td>shake_5Day</td>\n",
       "      <td>1.541507e-01</td>\n",
       "      <td>-0.247725</td>\n",
       "    </tr>\n",
       "    <tr>\n",
       "      <th>14</th>\n",
       "      <td>shakeamp_5Day</td>\n",
       "      <td>-2.876821e-01</td>\n",
       "      <td>-0.301710</td>\n",
       "    </tr>\n",
       "    <tr>\n",
       "      <th>15</th>\n",
       "      <td>shake_6Day</td>\n",
       "      <td>3.184537e-01</td>\n",
       "      <td>-0.194554</td>\n",
       "    </tr>\n",
       "    <tr>\n",
       "      <th>16</th>\n",
       "      <td>shakeamp_6Day</td>\n",
       "      <td>2.513144e-01</td>\n",
       "      <td>-0.578033</td>\n",
       "    </tr>\n",
       "    <tr>\n",
       "      <th>17</th>\n",
       "      <td>shake_7Day</td>\n",
       "      <td>1.576289e-01</td>\n",
       "      <td>0.246352</td>\n",
       "    </tr>\n",
       "    <tr>\n",
       "      <th>18</th>\n",
       "      <td>shakeamp_7Day</td>\n",
       "      <td>1.335314e-01</td>\n",
       "      <td>-0.299197</td>\n",
       "    </tr>\n",
       "    <tr>\n",
       "      <th>19</th>\n",
       "      <td>shake_Lowess_1Day</td>\n",
       "      <td>1.145132e+00</td>\n",
       "      <td>0.734823</td>\n",
       "    </tr>\n",
       "    <tr>\n",
       "      <th>20</th>\n",
       "      <td>shake_Lowess_2Day</td>\n",
       "      <td>6.299683e-01</td>\n",
       "      <td>1.080204</td>\n",
       "    </tr>\n",
       "    <tr>\n",
       "      <th>21</th>\n",
       "      <td>shake_Lowess_3Day</td>\n",
       "      <td>1.000000e-10</td>\n",
       "      <td>0.057000</td>\n",
       "    </tr>\n",
       "    <tr>\n",
       "      <th>22</th>\n",
       "      <td>shake_Lowess_4Day</td>\n",
       "      <td>-7.731899e-01</td>\n",
       "      <td>-0.112572</td>\n",
       "    </tr>\n",
       "    <tr>\n",
       "      <th>23</th>\n",
       "      <td>shake_Lowess_5Day</td>\n",
       "      <td>-4.519851e-01</td>\n",
       "      <td>-0.480000</td>\n",
       "    </tr>\n",
       "    <tr>\n",
       "      <th>24</th>\n",
       "      <td>shake_Lowess_6Day</td>\n",
       "      <td>-9.162907e-01</td>\n",
       "      <td>-0.843594</td>\n",
       "    </tr>\n",
       "    <tr>\n",
       "      <th>25</th>\n",
       "      <td>shake_Lowess_7Day</td>\n",
       "      <td>-5.596158e-01</td>\n",
       "      <td>-0.380974</td>\n",
       "    </tr>\n",
       "    <tr>\n",
       "      <th>26</th>\n",
       "      <td>mean_3Day</td>\n",
       "      <td>-1.098612e+00</td>\n",
       "      <td>0.154920</td>\n",
       "    </tr>\n",
       "    <tr>\n",
       "      <th>27</th>\n",
       "      <td>std_3Day</td>\n",
       "      <td>-6.931472e-01</td>\n",
       "      <td>-0.449983</td>\n",
       "    </tr>\n",
       "    <tr>\n",
       "      <th>28</th>\n",
       "      <td>skew_3Day</td>\n",
       "      <td>1.000000e-10</td>\n",
       "      <td>-0.451783</td>\n",
       "    </tr>\n",
       "    <tr>\n",
       "      <th>29</th>\n",
       "      <td>kurt_3Day</td>\n",
       "      <td>-2.302585e+01</td>\n",
       "      <td>-23.025851</td>\n",
       "    </tr>\n",
       "    <tr>\n",
       "      <th>30</th>\n",
       "      <td>mean_5Day</td>\n",
       "      <td>1.000000e-10</td>\n",
       "      <td>-0.255554</td>\n",
       "    </tr>\n",
       "    <tr>\n",
       "      <th>31</th>\n",
       "      <td>std_5Day</td>\n",
       "      <td>-3.184537e-01</td>\n",
       "      <td>-0.144731</td>\n",
       "    </tr>\n",
       "    <tr>\n",
       "      <th>32</th>\n",
       "      <td>skew_5Day</td>\n",
       "      <td>-9.162907e-01</td>\n",
       "      <td>-0.536510</td>\n",
       "    </tr>\n",
       "    <tr>\n",
       "      <th>33</th>\n",
       "      <td>kurt_5Day</td>\n",
       "      <td>1.000000e-10</td>\n",
       "      <td>-0.345777</td>\n",
       "    </tr>\n",
       "    <tr>\n",
       "      <th>34</th>\n",
       "      <td>mean_7Day</td>\n",
       "      <td>-7.537718e-01</td>\n",
       "      <td>-1.592878</td>\n",
       "    </tr>\n",
       "    <tr>\n",
       "      <th>35</th>\n",
       "      <td>std_7Day</td>\n",
       "      <td>-4.418328e-01</td>\n",
       "      <td>-0.507955</td>\n",
       "    </tr>\n",
       "    <tr>\n",
       "      <th>36</th>\n",
       "      <td>skew_7Day</td>\n",
       "      <td>-8.754687e-01</td>\n",
       "      <td>-0.457887</td>\n",
       "    </tr>\n",
       "    <tr>\n",
       "      <th>37</th>\n",
       "      <td>kurt_7Day</td>\n",
       "      <td>-4.700036e-01</td>\n",
       "      <td>-0.300782</td>\n",
       "    </tr>\n",
       "    <tr>\n",
       "      <th>38</th>\n",
       "      <td>ds_month_cos</td>\n",
       "      <td>-9.162907e-01</td>\n",
       "      <td>-0.259089</td>\n",
       "    </tr>\n",
       "    <tr>\n",
       "      <th>39</th>\n",
       "      <td>ds_week_cos</td>\n",
       "      <td>1.000000e-10</td>\n",
       "      <td>-0.516722</td>\n",
       "    </tr>\n",
       "    <tr>\n",
       "      <th>40</th>\n",
       "      <td>ds_day_of_month_cos</td>\n",
       "      <td>2.376717e-01</td>\n",
       "      <td>-0.312251</td>\n",
       "    </tr>\n",
       "    <tr>\n",
       "      <th>41</th>\n",
       "      <td>ds_day_of_week_cos</td>\n",
       "      <td>-5.108256e-01</td>\n",
       "      <td>-0.225875</td>\n",
       "    </tr>\n",
       "    <tr>\n",
       "      <th>42</th>\n",
       "      <td>month_begin</td>\n",
       "      <td>1.098612e+00</td>\n",
       "      <td>2.873498</td>\n",
       "    </tr>\n",
       "    <tr>\n",
       "      <th>43</th>\n",
       "      <td>month_end</td>\n",
       "      <td>1.000000e-10</td>\n",
       "      <td>-1.382515</td>\n",
       "    </tr>\n",
       "    <tr>\n",
       "      <th>44</th>\n",
       "      <td>rate_Shibor</td>\n",
       "      <td>-1.609438e+00</td>\n",
       "      <td>-1.132150</td>\n",
       "    </tr>\n",
       "    <tr>\n",
       "      <th>45</th>\n",
       "      <td>rate_Shibor_amp</td>\n",
       "      <td>-4.054651e-01</td>\n",
       "      <td>-0.371178</td>\n",
       "    </tr>\n",
       "    <tr>\n",
       "      <th>46</th>\n",
       "      <td>rate_Deposit</td>\n",
       "      <td>-5.108256e-01</td>\n",
       "      <td>-0.651753</td>\n",
       "    </tr>\n",
       "    <tr>\n",
       "      <th>47</th>\n",
       "      <td>rate_Deposit_amp</td>\n",
       "      <td>-1.098612e+00</td>\n",
       "      <td>-0.062747</td>\n",
       "    </tr>\n",
       "  </tbody>\n",
       "</table>\n",
       "</div>"
      ],
      "text/plain": [
       "                feature   split_score  gain_score\n",
       "0              lag_1day -6.931472e-01   -0.539258\n",
       "1              lag_2day -4.054651e-01   -0.258063\n",
       "2              lag_3day  1.000000e-10   -0.370114\n",
       "3              lag_4day -4.054651e-01   -0.168633\n",
       "4              lag_5day -2.302585e+01  -23.025851\n",
       "5              lag_6day -8.109302e-01   -0.114228\n",
       "6              lag_7day -3.364722e-01   -0.454039\n",
       "7            shake_2Day  2.682640e-01    1.347211\n",
       "8         shakeamp_2Day  7.537718e-01    1.313542\n",
       "9            shake_3Day  1.732717e-01    0.001543\n",
       "10        shakeamp_3Day  4.054651e-01    0.095092\n",
       "11           shake_4Day  1.335314e-01    0.048102\n",
       "12        shakeamp_4Day  4.054651e-01   -0.070856\n",
       "13           shake_5Day  1.541507e-01   -0.247725\n",
       "14        shakeamp_5Day -2.876821e-01   -0.301710\n",
       "15           shake_6Day  3.184537e-01   -0.194554\n",
       "16        shakeamp_6Day  2.513144e-01   -0.578033\n",
       "17           shake_7Day  1.576289e-01    0.246352\n",
       "18        shakeamp_7Day  1.335314e-01   -0.299197\n",
       "19    shake_Lowess_1Day  1.145132e+00    0.734823\n",
       "20    shake_Lowess_2Day  6.299683e-01    1.080204\n",
       "21    shake_Lowess_3Day  1.000000e-10    0.057000\n",
       "22    shake_Lowess_4Day -7.731899e-01   -0.112572\n",
       "23    shake_Lowess_5Day -4.519851e-01   -0.480000\n",
       "24    shake_Lowess_6Day -9.162907e-01   -0.843594\n",
       "25    shake_Lowess_7Day -5.596158e-01   -0.380974\n",
       "26            mean_3Day -1.098612e+00    0.154920\n",
       "27             std_3Day -6.931472e-01   -0.449983\n",
       "28            skew_3Day  1.000000e-10   -0.451783\n",
       "29            kurt_3Day -2.302585e+01  -23.025851\n",
       "30            mean_5Day  1.000000e-10   -0.255554\n",
       "31             std_5Day -3.184537e-01   -0.144731\n",
       "32            skew_5Day -9.162907e-01   -0.536510\n",
       "33            kurt_5Day  1.000000e-10   -0.345777\n",
       "34            mean_7Day -7.537718e-01   -1.592878\n",
       "35             std_7Day -4.418328e-01   -0.507955\n",
       "36            skew_7Day -8.754687e-01   -0.457887\n",
       "37            kurt_7Day -4.700036e-01   -0.300782\n",
       "38         ds_month_cos -9.162907e-01   -0.259089\n",
       "39          ds_week_cos  1.000000e-10   -0.516722\n",
       "40  ds_day_of_month_cos  2.376717e-01   -0.312251\n",
       "41   ds_day_of_week_cos -5.108256e-01   -0.225875\n",
       "42          month_begin  1.098612e+00    2.873498\n",
       "43            month_end  1.000000e-10   -1.382515\n",
       "44          rate_Shibor -1.609438e+00   -1.132150\n",
       "45      rate_Shibor_amp -4.054651e-01   -0.371178\n",
       "46         rate_Deposit -5.108256e-01   -0.651753\n",
       "47     rate_Deposit_amp -1.098612e+00   -0.062747"
      ]
     },
     "execution_count": 61,
     "metadata": {},
     "output_type": "execute_result"
    }
   ],
   "source": [
    "scores_df"
   ]
  },
  {
   "cell_type": "code",
   "execution_count": 62,
   "metadata": {
    "tags": []
   },
   "outputs": [],
   "source": [
    "null_imp_df.to_csv('null_importances_distribution_xgboost.csv')\n",
    "actual_imp_df.to_csv('actual_importances_ditribution_xgboost.csv')"
   ]
  },
  {
   "cell_type": "markdown",
   "metadata": {},
   "source": [
    "# Check the impact of removing uncorrelated features"
   ]
  },
  {
   "cell_type": "code",
   "execution_count": 63,
   "metadata": {
    "tags": []
   },
   "outputs": [
    {
     "data": {
      "image/png": "[encoded data removed]",
      "text/plain": [
       "<Figure size 1152x1152 with 2 Axes>"
      ]
     },
     "metadata": {
      "needs_background": "light"
     },
     "output_type": "display_data"
    }
   ],
   "source": [
    "correlation_scores = []\n",
    "for _f in actual_imp_df['feature'].unique():\n",
    "    f_null_imps = null_imp_df.loc[null_imp_df['feature'] == _f, 'importance_gain'].values\n",
    "    f_act_imps = actual_imp_df.loc[actual_imp_df['feature'] == _f, 'importance_gain'].values\n",
    "    gain_score = 100 * (f_null_imps < np.percentile(f_act_imps, 25)).sum() / f_null_imps.size\n",
    "    f_null_imps = null_imp_df.loc[null_imp_df['feature'] == _f, 'importance_split'].values\n",
    "    f_act_imps = actual_imp_df.loc[actual_imp_df['feature'] == _f, 'importance_split'].values\n",
    "    split_score = 100 * (f_null_imps < np.percentile(f_act_imps, 25)).sum() / f_null_imps.size\n",
    "    correlation_scores.append((_f, split_score, gain_score))\n",
    "\n",
    "corr_scores_df = pd.DataFrame(correlation_scores, columns=['feature', 'split_score', 'gain_score'])\n",
    "\n",
    "fig = plt.figure(figsize=(16, 16))\n",
    "gs = gridspec.GridSpec(1, 2)\n",
    "# Plot Split importances\n",
    "ax = plt.subplot(gs[0, 0])\n",
    "sns.barplot(x='split_score', y='feature', data=corr_scores_df.sort_values('split_score', ascending=False).iloc[0:70], ax=ax)\n",
    "ax.set_title('Feature scores wrt split importances', fontweight='bold', fontsize=14)\n",
    "# Plot Gain importances\n",
    "ax = plt.subplot(gs[0, 1])\n",
    "sns.barplot(x='gain_score', y='feature', data=corr_scores_df.sort_values('gain_score', ascending=False).iloc[0:70], ax=ax)\n",
    "ax.set_title('Feature scores wrt gain importances', fontweight='bold', fontsize=14)\n",
    "plt.tight_layout()\n",
    "plt.suptitle(\"Features' split and gain scores\", fontweight='bold', fontsize=16)\n",
    "fig.subplots_adjust(top=0.95)"
   ]
  },
  {
   "cell_type": "code",
   "execution_count": 64,
   "metadata": {
    "tags": []
   },
   "outputs": [],
   "source": [
    "corr_scores_df.sort_values(by=\"gain_score\" , inplace=True, ascending=False) "
   ]
  },
  {
   "cell_type": "code",
   "execution_count": 65,
   "metadata": {
    "tags": []
   },
   "outputs": [],
   "source": [
    "corr_scores_df.to_csv('corr_scores_df_xgboost.csv', index=False)"
   ]
  },
  {
   "cell_type": "markdown",
   "metadata": {},
   "source": [
    "# score feature selection"
   ]
  },
  {
   "cell_type": "code",
   "execution_count": 82,
   "metadata": {
    "tags": []
   },
   "outputs": [],
   "source": [
    "def score_feature_selection(df=None, train_features=None, target=None):\n",
    "    dtrain = xgb.DMatrix(df[train_features], target)\n",
    "    xgb_parms = { \n",
    "        'max_depth':6, \n",
    "        'learning_rate':0.0001, \n",
    "        'subsample':0.6,\n",
    "        'colsample_bytree':0.6, \n",
    "        'eval_metric':'logloss',\n",
    "        'objective':'binary:logistic',\n",
    "        'random_state':42\n",
    "    }\n",
    "    \n",
    "    # Fit the model\n",
    "    hist = xgb.cv(\n",
    "        xgb_parms, \n",
    "        dtrain, \n",
    "        num_boost_round=50, \n",
    "        nfold=4, \n",
    "        metrics=['error'],\n",
    "        early_stopping_rounds=5, \n",
    "        stratified=True, \n",
    "        seed=42\n",
    "    )\n",
    "    # Return the last mean / std values \n",
    "    return hist.tail(1)"
   ]
  },
  {
   "cell_type": "markdown",
   "metadata": {},
   "source": [
    "# 全部特征"
   ]
  },
  {
   "cell_type": "code",
   "execution_count": 83,
   "metadata": {
    "tags": []
   },
   "outputs": [],
   "source": [
    "feature = feature_name\n",
    "results = score_feature_selection(df = data, train_features=feature, target=data['target'])"
   ]
  },
  {
   "cell_type": "code",
   "execution_count": 84,
   "metadata": {
    "tags": []
   },
   "outputs": [
    {
     "data": {
      "text/html": [
       "<div>\n",
       "<style scoped>\n",
       "    .dataframe tbody tr th:only-of-type {\n",
       "        vertical-align: middle;\n",
       "    }\n",
       "\n",
       "    .dataframe tbody tr th {\n",
       "        vertical-align: top;\n",
       "    }\n",
       "\n",
       "    .dataframe thead th {\n",
       "        text-align: right;\n",
       "    }\n",
       "</style>\n",
       "<table border=\"1\" class=\"dataframe\">\n",
       "  <thead>\n",
       "    <tr style=\"text-align: right;\">\n",
       "      <th></th>\n",
       "      <th>train-error-mean</th>\n",
       "      <th>train-error-std</th>\n",
       "      <th>test-error-mean</th>\n",
       "      <th>test-error-std</th>\n",
       "    </tr>\n",
       "  </thead>\n",
       "  <tbody>\n",
       "    <tr>\n",
       "      <th>7</th>\n",
       "      <td>0.15011</td>\n",
       "      <td>0.007527</td>\n",
       "      <td>0.298013</td>\n",
       "      <td>0.029338</td>\n",
       "    </tr>\n",
       "  </tbody>\n",
       "</table>\n",
       "</div>"
      ],
      "text/plain": [
       "   train-error-mean  train-error-std  test-error-mean  test-error-std\n",
       "7           0.15011         0.007527         0.298013        0.029338"
      ]
     },
     "execution_count": 84,
     "metadata": {},
     "output_type": "execute_result"
    }
   ],
   "source": [
    "results"
   ]
  },
  {
   "cell_type": "code",
   "execution_count": 85,
   "metadata": {
    "tags": []
   },
   "outputs": [
    {
     "data": {
      "text/html": [
       "<div>\n",
       "<style scoped>\n",
       "    .dataframe tbody tr th:only-of-type {\n",
       "        vertical-align: middle;\n",
       "    }\n",
       "\n",
       "    .dataframe tbody tr th {\n",
       "        vertical-align: top;\n",
       "    }\n",
       "\n",
       "    .dataframe thead th {\n",
       "        text-align: right;\n",
       "    }\n",
       "</style>\n",
       "<table border=\"1\" class=\"dataframe\">\n",
       "  <thead>\n",
       "    <tr style=\"text-align: right;\">\n",
       "      <th></th>\n",
       "      <th>train-error-mean</th>\n",
       "      <th>train-error-std</th>\n",
       "      <th>test-error-mean</th>\n",
       "      <th>test-error-std</th>\n",
       "    </tr>\n",
       "  </thead>\n",
       "  <tbody>\n",
       "    <tr>\n",
       "      <th>7</th>\n",
       "      <td>0.15011</td>\n",
       "      <td>0.007527</td>\n",
       "      <td>0.298013</td>\n",
       "      <td>0.029338</td>\n",
       "    </tr>\n",
       "  </tbody>\n",
       "</table>\n",
       "</div>"
      ],
      "text/plain": [
       "   train-error-mean  train-error-std  test-error-mean  test-error-std\n",
       "7           0.15011         0.007527         0.298013        0.029338"
      ]
     },
     "execution_count": 85,
     "metadata": {},
     "output_type": "execute_result"
    }
   ],
   "source": [
    "results"
   ]
  },
  {
   "cell_type": "markdown",
   "metadata": {},
   "source": [
    "# 删除全是0的特征"
   ]
  },
  {
   "cell_type": "code",
   "execution_count": 86,
   "metadata": {
    "tags": []
   },
   "outputs": [],
   "source": [
    "del_feats_name = corr_scores_df.loc[(corr_scores_df['split_score'] == 0) & (corr_scores_df['gain_score'] == 0)]['feature'].tolist()\n",
    "train_features_name = [f for f in feature_name if f not in del_feats_name]\n",
    "results = score_feature_selection(df = data, train_features=train_features_name, target=data['target'])"
   ]
  },
  {
   "cell_type": "code",
   "execution_count": 87,
   "metadata": {
    "tags": []
   },
   "outputs": [
    {
     "data": {
      "text/html": [
       "<div>\n",
       "<style scoped>\n",
       "    .dataframe tbody tr th:only-of-type {\n",
       "        vertical-align: middle;\n",
       "    }\n",
       "\n",
       "    .dataframe tbody tr th {\n",
       "        vertical-align: top;\n",
       "    }\n",
       "\n",
       "    .dataframe thead th {\n",
       "        text-align: right;\n",
       "    }\n",
       "</style>\n",
       "<table border=\"1\" class=\"dataframe\">\n",
       "  <thead>\n",
       "    <tr style=\"text-align: right;\">\n",
       "      <th></th>\n",
       "      <th>train-error-mean</th>\n",
       "      <th>train-error-std</th>\n",
       "      <th>test-error-mean</th>\n",
       "      <th>test-error-std</th>\n",
       "    </tr>\n",
       "  </thead>\n",
       "  <tbody>\n",
       "    <tr>\n",
       "      <th>14</th>\n",
       "      <td>0.139625</td>\n",
       "      <td>0.006826</td>\n",
       "      <td>0.290563</td>\n",
       "      <td>0.031793</td>\n",
       "    </tr>\n",
       "  </tbody>\n",
       "</table>\n",
       "</div>"
      ],
      "text/plain": [
       "    train-error-mean  train-error-std  test-error-mean  test-error-std\n",
       "14          0.139625         0.006826         0.290563        0.031793"
      ]
     },
     "execution_count": 87,
     "metadata": {},
     "output_type": "execute_result"
    }
   ],
   "source": [
    "results"
   ]
  },
  {
   "cell_type": "markdown",
   "metadata": {},
   "source": [
    "# 删除有一个为0的特征"
   ]
  },
  {
   "cell_type": "code",
   "execution_count": 88,
   "metadata": {
    "tags": []
   },
   "outputs": [],
   "source": [
    "del_feats_name = corr_scores_df.loc[(corr_scores_df['split_score'] == 0) | (corr_scores_df['gain_score'] == 0)]['feature'].tolist()\n",
    "train_features_name = [f for f in feature_name if f not in del_feats_name]\n",
    "results = score_feature_selection(df = data, train_features=train_features_name, target=data['target'])"
   ]
  },
  {
   "cell_type": "code",
   "execution_count": 89,
   "metadata": {
    "tags": []
   },
   "outputs": [
    {
     "data": {
      "text/html": [
       "<div>\n",
       "<style scoped>\n",
       "    .dataframe tbody tr th:only-of-type {\n",
       "        vertical-align: middle;\n",
       "    }\n",
       "\n",
       "    .dataframe tbody tr th {\n",
       "        vertical-align: top;\n",
       "    }\n",
       "\n",
       "    .dataframe thead th {\n",
       "        text-align: right;\n",
       "    }\n",
       "</style>\n",
       "<table border=\"1\" class=\"dataframe\">\n",
       "  <thead>\n",
       "    <tr style=\"text-align: right;\">\n",
       "      <th></th>\n",
       "      <th>train-error-mean</th>\n",
       "      <th>train-error-std</th>\n",
       "      <th>test-error-mean</th>\n",
       "      <th>test-error-std</th>\n",
       "    </tr>\n",
       "  </thead>\n",
       "  <tbody>\n",
       "    <tr>\n",
       "      <th>14</th>\n",
       "      <td>0.139625</td>\n",
       "      <td>0.006826</td>\n",
       "      <td>0.290563</td>\n",
       "      <td>0.031793</td>\n",
       "    </tr>\n",
       "  </tbody>\n",
       "</table>\n",
       "</div>"
      ],
      "text/plain": [
       "    train-error-mean  train-error-std  test-error-mean  test-error-std\n",
       "14          0.139625         0.006826         0.290563        0.031793"
      ]
     },
     "execution_count": 89,
     "metadata": {},
     "output_type": "execute_result"
    }
   ],
   "source": [
    "results"
   ]
  },
  {
   "cell_type": "markdown",
   "metadata": {},
   "source": [
    "# 只选前几个特征"
   ]
  },
  {
   "cell_type": "code",
   "execution_count": 90,
   "metadata": {
    "tags": []
   },
   "outputs": [],
   "source": [
    "del_feats_name = corr_scores_df.loc[(corr_scores_df['split_score'] == 0) | (corr_scores_df['gain_score'] == 0)]['feature'].tolist()\n",
    "feats_name = [f for f in feature_name if f not in del_feats_name]"
   ]
  },
  {
   "cell_type": "code",
   "execution_count": 91,
   "metadata": {
    "tags": []
   },
   "outputs": [],
   "source": [
    "df = pd.DataFrame(feats_name,columns=['Name'])\n",
    "df['gain'] = 0\n",
    "for i in feats_name:\n",
    "    temp = actual_imp_df.loc[actual_imp_df['feature'] == i]['importance_gain'].values\n",
    "    #print(temp.tolist())\n",
    "    df.loc[df['Name'] == i,'gain'] = temp"
   ]
  },
  {
   "cell_type": "code",
   "execution_count": 92,
   "metadata": {
    "tags": []
   },
   "outputs": [],
   "source": [
    "### 根据Gain的值对特征重要性进行降序排序\n",
    "df.sort_values(by=\"gain\" , inplace=True, ascending=False) "
   ]
  },
  {
   "cell_type": "code",
   "execution_count": 93,
   "metadata": {
    "tags": []
   },
   "outputs": [
    {
     "name": "stdout",
     "output_type": "stream",
     "text": [
      "选择特征数量8:\n",
      "    train-error-mean  train-error-std  test-error-mean  test-error-std\n",
      "16          0.182119         0.003902          0.29553        0.015242\n",
      "选择特征数量9:\n",
      "    train-error-mean  train-error-std  test-error-mean  test-error-std\n",
      "20          0.175773         0.001632         0.277318        0.027443\n",
      "选择特征数量10:\n",
      "    train-error-mean  train-error-std  test-error-mean  test-error-std\n",
      "16          0.165839          0.00502         0.286424        0.014146\n",
      "选择特征数量11:\n",
      "    train-error-mean  train-error-std  test-error-mean  test-error-std\n",
      "18          0.162528         0.003692         0.287252        0.018343\n",
      "选择特征数量12:\n",
      "   train-error-mean  train-error-std  test-error-mean  test-error-std\n",
      "4          0.181567         0.006071         0.287252        0.034282\n",
      "选择特征数量13:\n",
      "   train-error-mean  train-error-std  test-error-mean  test-error-std\n",
      "4          0.179912         0.002814         0.290563        0.030382\n",
      "选择特征数量14:\n",
      "   train-error-mean  train-error-std  test-error-mean  test-error-std\n",
      "6          0.171634         0.007746         0.288907        0.028134\n",
      "选择特征数量15:\n",
      "   train-error-mean  train-error-std  test-error-mean  test-error-std\n",
      "4          0.181291         0.008774         0.297185        0.017423\n",
      "选择特征数量16:\n",
      "   train-error-mean  train-error-std  test-error-mean  test-error-std\n",
      "4          0.182947         0.005081         0.296358        0.023589\n",
      "选择特征数量17:\n",
      "   train-error-mean  train-error-std  test-error-mean  test-error-std\n",
      "4          0.186534         0.006483         0.293874        0.022746\n",
      "选择特征数量18:\n",
      "    train-error-mean  train-error-std  test-error-mean  test-error-std\n",
      "11          0.166115         0.004584         0.282285        0.013926\n",
      "选择特征数量19:\n",
      "   train-error-mean  train-error-std  test-error-mean  test-error-std\n",
      "8          0.168322         0.013279         0.296358        0.022274\n",
      "选择特征数量20:\n",
      "   train-error-mean  train-error-std  test-error-mean  test-error-std\n",
      "2          0.189845         0.010954         0.293046         0.03003\n",
      "选择特征数量21:\n",
      "    train-error-mean  train-error-std  test-error-mean  test-error-std\n",
      "18          0.155077         0.004715         0.281457        0.024999\n",
      "选择特征数量22:\n",
      "    train-error-mean  train-error-std  test-error-mean  test-error-std\n",
      "14          0.157009         0.011743         0.280629        0.025475\n",
      "选择特征数量23:\n",
      "    train-error-mean  train-error-std  test-error-mean  test-error-std\n",
      "11          0.157837         0.010899          0.28394        0.021121\n",
      "选择特征数量24:\n",
      "    train-error-mean  train-error-std  test-error-mean  test-error-std\n",
      "15          0.150662         0.007746         0.294702        0.024445\n",
      "选择特征数量25:\n",
      "    train-error-mean  train-error-std  test-error-mean  test-error-std\n",
      "17          0.152042         0.011743         0.290563        0.011795\n",
      "选择特征数量26:\n",
      "    train-error-mean  train-error-std  test-error-mean  test-error-std\n",
      "18          0.152318         0.008585         0.293046         0.02021\n",
      "选择特征数量27:\n",
      "   train-error-mean  train-error-std  test-error-mean  test-error-std\n",
      "8          0.160872         0.011075         0.288079        0.022821\n",
      "选择特征数量28:\n",
      "   train-error-mean  train-error-std  test-error-mean  test-error-std\n",
      "7          0.165563         0.009135          0.29553        0.026112\n",
      "选择特征数量29:\n",
      "   train-error-mean  train-error-std  test-error-mean  test-error-std\n",
      "8          0.157837         0.003902         0.286424        0.025054\n",
      "选择特征数量30:\n",
      "   train-error-mean  train-error-std  test-error-mean  test-error-std\n",
      "4          0.170254         0.009945          0.29553        0.023105\n",
      "选择特征数量31:\n",
      "    train-error-mean  train-error-std  test-error-mean  test-error-std\n",
      "13          0.145695         0.007445         0.289735        0.028146\n",
      "选择特征数量32:\n",
      "    train-error-mean  train-error-std  test-error-mean  test-error-std\n",
      "13           0.14404         0.002972         0.293874        0.023691\n",
      "选择特征数量33:\n",
      "    train-error-mean  train-error-std  test-error-mean  test-error-std\n",
      "20          0.142384         0.011862         0.279801         0.01952\n",
      "选择特征数量34:\n",
      "    train-error-mean  train-error-std  test-error-mean  test-error-std\n",
      "18          0.140453         0.004576         0.293046        0.014901\n",
      "选择特征数量35:\n",
      "    train-error-mean  train-error-std  test-error-mean  test-error-std\n",
      "12          0.152042         0.007084         0.293874        0.026632\n",
      "选择特征数量36:\n",
      "    train-error-mean  train-error-std  test-error-mean  test-error-std\n",
      "15          0.146799         0.010673         0.297185        0.028807\n",
      "选择特征数量37:\n",
      "   train-error-mean  train-error-std  test-error-mean  test-error-std\n",
      "4          0.167219         0.009447         0.305464        0.022382\n",
      "选择特征数量38:\n",
      "    train-error-mean  train-error-std  test-error-mean  test-error-std\n",
      "12          0.144592          0.00837         0.302152        0.023105\n",
      "选择特征数量39:\n",
      "    train-error-mean  train-error-std  test-error-mean  test-error-std\n",
      "17          0.139073         0.005351         0.294702        0.021713\n",
      "选择特征数量40:\n",
      "    train-error-mean  train-error-std  test-error-mean  test-error-std\n",
      "13          0.143764         0.008383         0.302152        0.024821\n",
      "选择特征数量41:\n",
      "    train-error-mean  train-error-std  test-error-mean  test-error-std\n",
      "10          0.148455         0.015871         0.305464        0.019076\n",
      "选择特征数量42:\n",
      "   train-error-mean  train-error-std  test-error-mean  test-error-std\n",
      "8          0.153146            0.015         0.304636        0.013036\n",
      "选择特征数量43:\n",
      "    train-error-mean  train-error-std  test-error-mean  test-error-std\n",
      "20          0.139349         0.008598         0.297185        0.025795\n",
      "选择特征数量44:\n",
      "    train-error-mean  train-error-std  test-error-mean  test-error-std\n",
      "10           0.14404         0.011051         0.311258        0.013036\n",
      "选择特征数量45:\n",
      "   train-error-mean  train-error-std  test-error-mean  test-error-std\n",
      "7          0.153146         0.014207         0.303808        0.019076\n",
      "选择特征数量46:\n",
      "   train-error-mean  train-error-std  test-error-mean  test-error-std\n",
      "7          0.153146         0.014207         0.303808        0.019076\n",
      "选择特征数量47:\n",
      "   train-error-mean  train-error-std  test-error-mean  test-error-std\n",
      "7          0.153146         0.014207         0.303808        0.019076\n",
      "选择特征数量48:\n",
      "   train-error-mean  train-error-std  test-error-mean  test-error-std\n",
      "7          0.153146         0.014207         0.303808        0.019076\n",
      "选择特征数量49:\n",
      "   train-error-mean  train-error-std  test-error-mean  test-error-std\n",
      "7          0.153146         0.014207         0.303808        0.019076\n"
     ]
    }
   ],
   "source": [
    "for i in range (8,50):\n",
    "    select_feats_name = df.head(i)['Name'].tolist()\n",
    "    results = score_feature_selection(df = data,train_features=select_feats_name, target=data['target'])\n",
    "    print('选择特征数量%d:' % i)\n",
    "    print( results)"
   ]
  },
  {
   "cell_type": "code",
   "execution_count": 94,
   "metadata": {
    "tags": []
   },
   "outputs": [],
   "source": [
    "select_feats_name = df.head(9)['Name'].tolist()"
   ]
  },
  {
   "cell_type": "code",
   "execution_count": 95,
   "metadata": {
    "tags": []
   },
   "outputs": [
    {
     "data": {
      "text/plain": [
       "['shakeamp_2Day',\n",
       " 'shake_2Day',\n",
       " 'shake_Lowess_2Day',\n",
       " 'month_begin',\n",
       " 'shake_Lowess_1Day',\n",
       " 'shake_7Day',\n",
       " 'mean_3Day',\n",
       " 'shakeamp_3Day',\n",
       " 'shake_Lowess_3Day']"
      ]
     },
     "execution_count": 95,
     "metadata": {},
     "output_type": "execute_result"
    }
   ],
   "source": [
    "select_feats_name"
   ]
  },
  {
   "cell_type": "markdown",
   "metadata": {
    "execution": {
     "iopub.execute_input": "2023-08-17T06:29:26.909952Z",
     "iopub.status.busy": "2023-08-17T06:29:26.909790Z",
     "iopub.status.idle": "2023-08-17T06:29:26.914520Z",
     "shell.execute_reply": "2023-08-17T06:29:26.914210Z",
     "shell.execute_reply.started": "2023-08-17T06:29:26.909939Z"
    },
    "tags": []
   },
   "source": [
    "##### results"
   ]
  },
  {
   "cell_type": "code",
   "execution_count": null,
   "metadata": {},
   "outputs": [],
   "source": []
  },
  {
   "cell_type": "code",
   "execution_count": 180,
   "metadata": {
    "execution": {
     "iopub.execute_input": "2023-08-17T06:28:19.468733Z",
     "iopub.status.busy": "2023-08-17T06:28:19.468550Z",
     "iopub.status.idle": "2023-08-17T06:28:19.565437Z",
     "shell.execute_reply": "2023-08-17T06:28:19.565125Z",
     "shell.execute_reply.started": "2023-08-17T06:28:19.468721Z"
    },
    "tags": []
   },
   "outputs": [
    {
     "data": {
      "text/html": [
       "<div>\n",
       "<style scoped>\n",
       "    .dataframe tbody tr th:only-of-type {\n",
       "        vertical-align: middle;\n",
       "    }\n",
       "\n",
       "    .dataframe tbody tr th {\n",
       "        vertical-align: top;\n",
       "    }\n",
       "\n",
       "    .dataframe thead th {\n",
       "        text-align: right;\n",
       "    }\n",
       "</style>\n",
       "<table border=\"1\" class=\"dataframe\">\n",
       "  <thead>\n",
       "    <tr style=\"text-align: right;\">\n",
       "      <th></th>\n",
       "      <th>train-auc-mean</th>\n",
       "      <th>train-auc-std</th>\n",
       "      <th>test-auc-mean</th>\n",
       "      <th>test-auc-std</th>\n",
       "    </tr>\n",
       "  </thead>\n",
       "  <tbody>\n",
       "    <tr>\n",
       "      <th>13</th>\n",
       "      <td>0.893955</td>\n",
       "      <td>0.005377</td>\n",
       "      <td>0.772574</td>\n",
       "      <td>0.013745</td>\n",
       "    </tr>\n",
       "  </tbody>\n",
       "</table>\n",
       "</div>"
      ],
      "text/plain": [
       "    train-auc-mean  train-auc-std  test-auc-mean  test-auc-std\n",
       "13        0.893955       0.005377       0.772574      0.013745"
      ]
     },
     "execution_count": 180,
     "metadata": {},
     "output_type": "execute_result"
    }
   ],
   "source": [
    "results"
   ]
  },
  {
   "cell_type": "markdown",
   "metadata": {},
   "source": [
    "# 使用至少有1个为100的特征"
   ]
  },
  {
   "cell_type": "raw",
   "metadata": {
    "execution": {
     "iopub.execute_input": "2023-07-31T12:48:49.080113Z",
     "iopub.status.busy": "2023-07-31T12:48:49.079877Z",
     "iopub.status.idle": "2023-07-31T12:52:50.613452Z",
     "shell.execute_reply": "2023-07-31T12:52:50.612757Z",
     "shell.execute_reply.started": "2023-07-31T12:48:49.080102Z"
    },
    "tags": []
   },
   "source": [
    "feats_name = corr_scores_df.loc[(corr_scores_df['split_score'] == 100) | (corr_scores_df['gain_score'] == 100)]['feature'].tolist()\n",
    "results = score_feature_selection(df = data, train_features=feats_name, target=data['target'])"
   ]
  },
  {
   "cell_type": "raw",
   "metadata": {
    "execution": {
     "iopub.execute_input": "2023-07-31T12:52:50.614607Z",
     "iopub.status.busy": "2023-07-31T12:52:50.614366Z",
     "iopub.status.idle": "2023-07-31T12:52:50.619744Z",
     "shell.execute_reply": "2023-07-31T12:52:50.619368Z",
     "shell.execute_reply.started": "2023-07-31T12:52:50.614592Z"
    },
    "tags": []
   },
   "source": [
    "results"
   ]
  },
  {
   "cell_type": "markdown",
   "metadata": {},
   "source": [
    "# 只使用全部是100 的特征"
   ]
  },
  {
   "cell_type": "raw",
   "metadata": {
    "execution": {
     "iopub.execute_input": "2023-07-31T12:52:50.620611Z",
     "iopub.status.busy": "2023-07-31T12:52:50.620382Z",
     "iopub.status.idle": "2023-07-31T12:52:51.447458Z",
     "shell.execute_reply": "2023-07-31T12:52:51.446684Z",
     "shell.execute_reply.started": "2023-07-31T12:52:50.620598Z"
    },
    "tags": []
   },
   "source": [
    "feats_name = corr_scores_df.loc[(corr_scores_df['split_score'] == 100) & (corr_scores_df['gain_score'] == 100)]['feature'].tolist()\n",
    "results = score_feature_selection(df = data, train_features=feats_name, target=data['target'])"
   ]
  },
  {
   "cell_type": "raw",
   "metadata": {
    "execution": {
     "iopub.status.busy": "2023-07-31T12:52:51.447921Z",
     "iopub.status.idle": "2023-07-31T12:52:51.448117Z",
     "shell.execute_reply": "2023-07-31T12:52:51.448045Z",
     "shell.execute_reply.started": "2023-07-31T12:52:51.448036Z"
    },
    "tags": []
   },
   "source": [
    "results"
   ]
  },
  {
   "cell_type": "markdown",
   "metadata": {},
   "source": [
    "# 对两个都是100的提取出来并排序"
   ]
  },
  {
   "cell_type": "raw",
   "metadata": {
    "execution": {
     "iopub.execute_input": "2023-07-31T12:55:48.343762Z",
     "iopub.status.busy": "2023-07-31T12:55:48.343545Z",
     "iopub.status.idle": "2023-07-31T12:55:48.347831Z",
     "shell.execute_reply": "2023-07-31T12:55:48.347197Z",
     "shell.execute_reply.started": "2023-07-31T12:55:48.343747Z"
    },
    "tags": []
   },
   "source": [
    "feats_name = corr_scores_df.loc[(corr_scores_df['split_score'] == 100) & (corr_scores_df['gain_score'] == 100)]['feature'].tolist()"
   ]
  },
  {
   "cell_type": "raw",
   "metadata": {
    "execution": {
     "iopub.execute_input": "2023-07-31T12:55:49.513572Z",
     "iopub.status.busy": "2023-07-31T12:55:49.511928Z",
     "iopub.status.idle": "2023-07-31T12:55:49.528642Z",
     "shell.execute_reply": "2023-07-31T12:55:49.526952Z",
     "shell.execute_reply.started": "2023-07-31T12:55:49.513470Z"
    },
    "tags": []
   },
   "source": [
    "df = pd.DataFrame(feats_name,columns=['Name'])\n",
    "df['gain'] = 0\n",
    "for i in feats_name:\n",
    "    temp = actual_imp_df.loc[actual_imp_df['feature'] == i]['importance_gain'].values\n",
    "    #print(temp.tolist())\n",
    "    df.loc[df['Name'] == i,'gain'] = temp"
   ]
  },
  {
   "cell_type": "raw",
   "metadata": {
    "execution": {
     "iopub.execute_input": "2023-07-31T12:55:52.016829Z",
     "iopub.status.busy": "2023-07-31T12:55:52.016498Z",
     "iopub.status.idle": "2023-07-31T12:55:52.020608Z",
     "shell.execute_reply": "2023-07-31T12:55:52.019914Z",
     "shell.execute_reply.started": "2023-07-31T12:55:52.016810Z"
    },
    "tags": []
   },
   "source": [
    "### 根据Gain的值对特征重要性进行降序排序\n",
    "df.sort_values(by=\"gain\" , inplace=True, ascending=False) "
   ]
  },
  {
   "cell_type": "raw",
   "metadata": {
    "execution": {
     "iopub.execute_input": "2023-07-31T12:55:53.006081Z",
     "iopub.status.busy": "2023-07-31T12:55:53.005558Z",
     "iopub.status.idle": "2023-07-31T12:55:53.010305Z",
     "shell.execute_reply": "2023-07-31T12:55:53.009557Z",
     "shell.execute_reply.started": "2023-07-31T12:55:53.006057Z"
    },
    "tags": []
   },
   "source": [
    "select_N = 10\n",
    "select_feats_name = df.head(select_N)['Name'].tolist()"
   ]
  },
  {
   "cell_type": "raw",
   "metadata": {
    "execution": {
     "iopub.execute_input": "2023-07-31T12:55:54.079860Z",
     "iopub.status.busy": "2023-07-31T12:55:54.079595Z",
     "iopub.status.idle": "2023-07-31T12:55:54.137892Z",
     "shell.execute_reply": "2023-07-31T12:55:54.136962Z",
     "shell.execute_reply.started": "2023-07-31T12:55:54.079844Z"
    },
    "tags": []
   },
   "source": [
    "results = score_feature_selection(df = data, train_features=select_feats_name, target=data['target'])"
   ]
  },
  {
   "cell_type": "raw",
   "metadata": {
    "execution": {
     "iopub.status.busy": "2023-07-31T12:52:51.451934Z",
     "iopub.status.idle": "2023-07-31T12:52:51.452075Z",
     "shell.execute_reply": "2023-07-31T12:52:51.452009Z",
     "shell.execute_reply.started": "2023-07-31T12:52:51.452001Z"
    },
    "tags": []
   },
   "source": [
    "results"
   ]
  },
  {
   "cell_type": "code",
   "execution_count": null,
   "metadata": {},
   "outputs": [],
   "source": []
  }
 ],
 "metadata": {
  "kernelspec": {
   "display_name": "Python 3",
   "language": "python",
   "name": "python3"
  },
  "language_info": {
   "codemirror_mode": {
    "name": "ipython",
    "version": 3
   },
   "file_extension": ".py",
   "mimetype": "text/x-python",
   "name": "python",
   "nbconvert_exporter": "python",
   "pygments_lexer": "ipython3",
   "version": "3.8.3"
  }
 },
 "nbformat": 4,
 "nbformat_minor": 5
}
