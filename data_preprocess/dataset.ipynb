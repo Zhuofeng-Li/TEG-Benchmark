{
 "cells": [
  {
   "cell_type": "code",
   "execution_count": 1,
   "metadata": {},
   "outputs": [
    {
     "name": "stderr",
     "output_type": "stream",
     "text": [
      "/home/lizhuofeng/.local/lib/python3.10/site-packages/huggingface_hub/hf_api.py:9620: UserWarning: Warnings while validating metadata in README.md:\n",
      "- empty or missing yaml metadata in repo card\n",
      "  warnings.warn(f\"Warnings while validating metadata in README.md:\\n{message}\")\n"
     ]
    }
   ],
   "source": [
    "from huggingface_hub import HfApi\n",
    "api = HfApi()\n",
    "\n",
    "api.upload_folder(\n",
    "    folder_path=\"../Dataset\",\n",
    "    repo_id=\"ZhuofengLi/TEG-Datasets\",\n",
    "    repo_type=\"dataset\",\n",
    "\tignore_patterns=[\"**/logs/*.txt\", \"**/.ipynb_checkpoints\", \"**/__pycache__\", \"**/.cache\", \"**/embcache\", \"**/LinkPrediction\"]\n",
    ")"
   ]
  },
  {
   "cell_type": "code",
   "execution_count": 1,
   "metadata": {},
   "outputs": [
    {
     "data": {
      "application/vnd.jupyter.widget-view+json": {
       "model_id": "c484c0011f2a48d39490aa13140c778d",
       "version_major": 2,
       "version_minor": 0
      },
      "text/plain": [
       "Fetching 85 files:   0%|          | 0/85 [00:00<?, ?it/s]"
      ]
     },
     "metadata": {},
     "output_type": "display_data"
    },
    {
     "data": {
      "application/vnd.jupyter.widget-view+json": {
       "model_id": "d6ad2a46c1f84e5cb773b83ad81afec0",
       "version_major": 2,
       "version_minor": 0
      },
      "text/plain": [
       ".gitattributes:   0%|          | 0.00/4.28k [00:00<?, ?B/s]"
      ]
     },
     "metadata": {},
     "output_type": "display_data"
    },
    {
     "data": {
      "application/vnd.jupyter.widget-view+json": {
       "model_id": "849865916d95499f8aadd8f654a7f9b5",
       "version_major": 2,
       "version_minor": 0
      },
      "text/plain": [
       "output_requests_apps_edge.jsonl:   0%|          | 0.00/342M [00:00<?, ?B/s]"
      ]
     },
     "metadata": {},
     "output_type": "display_data"
    },
    {
     "data": {
      "application/vnd.jupyter.widget-view+json": {
       "model_id": "50574cf3f1e34595ba081c4aa6938963",
       "version_major": 2,
       "version_minor": 0
      },
      "text/plain": [
       "arxiv/arxiv.md:   0%|          | 0.00/1.19k [00:00<?, ?B/s]"
      ]
     },
     "metadata": {},
     "output_type": "display_data"
    },
    {
     "data": {
      "application/vnd.jupyter.widget-view+json": {
       "model_id": "db779c2f324f4e6ea4b6e5e6487d9b65",
       "version_major": 2,
       "version_minor": 0
      },
      "text/plain": [
       "(…)put_requests_children_edge_results.jsonl:   0%|          | 0.00/869k [00:00<?, ?B/s]"
      ]
     },
     "metadata": {},
     "output_type": "display_data"
    },
    {
     "data": {
      "application/vnd.jupyter.widget-view+json": {
       "model_id": "4ccfe3fbed9f456d8aedc6035e94180b",
       "version_major": 2,
       "version_minor": 0
      },
      "text/plain": [
       "arxiv.pkl:   0%|          | 0.00/389M [00:00<?, ?B/s]"
      ]
     },
     "metadata": {},
     "output_type": "display_data"
    },
    {
     "data": {
      "application/vnd.jupyter.widget-view+json": {
       "model_id": "aadcc1bbeeff4f81a5112e17eb72abe2",
       "version_major": 2,
       "version_minor": 0
      },
      "text/plain": [
       "output_requests_children_edge.jsonl:   0%|          | 0.00/369M [00:00<?, ?B/s]"
      ]
     },
     "metadata": {},
     "output_type": "display_data"
    },
    {
     "data": {
      "application/vnd.jupyter.widget-view+json": {
       "model_id": "b67034ac11c148848c0cd7ab713aa677",
       "version_major": 2,
       "version_minor": 0
      },
      "text/plain": [
       "reddit/reddit.md:   0%|          | 0.00/1.03k [00:00<?, ?B/s]"
      ]
     },
     "metadata": {},
     "output_type": "display_data"
    },
    {
     "data": {
      "application/vnd.jupyter.widget-view+json": {
       "model_id": "329cfdc7c7eb4cf891a747d33cb0f013",
       "version_major": 2,
       "version_minor": 0
      },
      "text/plain": [
       "twitter_openai_edge.pt:   0%|          | 0.00/76.5M [00:00<?, ?B/s]"
      ]
     },
     "metadata": {},
     "output_type": "display_data"
    },
    {
     "data": {
      "application/vnd.jupyter.widget-view+json": {
       "model_id": "941dc4d8e96f46fd8f23883c4cf4f13b",
       "version_major": 2,
       "version_minor": 0
      },
      "text/plain": [
       "twitter_openai_node.pt:   0%|          | 0.00/62.2M [00:00<?, ?B/s]"
      ]
     },
     "metadata": {},
     "output_type": "display_data"
    },
    {
     "data": {
      "application/vnd.jupyter.widget-view+json": {
       "model_id": "35ee8f5f8b444ae7b2ff65011a2da878",
       "version_major": 2,
       "version_minor": 0
      },
      "text/plain": [
       "twitter/twitter.md:   0%|          | 0.00/634 [00:00<?, ?B/s]"
      ]
     },
     "metadata": {},
     "output_type": "display_data"
    },
    {
     "data": {
      "text/plain": [
       "'/home/lizhuofeng/TEG-Benchmark/Dataset'"
      ]
     },
     "execution_count": 1,
     "metadata": {},
     "output_type": "execute_result"
    }
   ],
   "source": [
    "from huggingface_hub import snapshot_download\n",
    "\n",
    "snapshot_download(repo_id=\"ZhuofengLi/TEG-Datasets\", repo_type=\"dataset\", local_dir=\"../Dataset\")"
   ]
  },
  {
   "cell_type": "code",
   "execution_count": null,
   "metadata": {},
   "outputs": [],
   "source": []
  }
 ],
 "metadata": {
  "kernelspec": {
   "display_name": "Python 3",
   "language": "python",
   "name": "python3"
  },
  "language_info": {
   "codemirror_mode": {
    "name": "ipython",
    "version": 3
   },
   "file_extension": ".py",
   "mimetype": "text/x-python",
   "name": "python",
   "nbconvert_exporter": "python",
   "pygments_lexer": "ipython3",
   "version": "3.10.12"
  }
 },
 "nbformat": 4,
 "nbformat_minor": 2
}
